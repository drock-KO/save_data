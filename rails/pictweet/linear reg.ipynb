{
 "cells": [
  {
   "cell_type": "code",
   "execution_count": 1,
   "metadata": {},
   "outputs": [],
   "source": [
    "import pandas as pd\n",
    "house = pd.read_csv('https://raw.githubusercontent.com/we-b/datasets_for_ai/master/cal_house.csv')"
   ]
  },
  {
   "cell_type": "code",
   "execution_count": 3,
   "metadata": {},
   "outputs": [
    {
     "data": {
      "text/html": [
       "<div>\n",
       "<style scoped>\n",
       "    .dataframe tbody tr th:only-of-type {\n",
       "        vertical-align: middle;\n",
       "    }\n",
       "\n",
       "    .dataframe tbody tr th {\n",
       "        vertical-align: top;\n",
       "    }\n",
       "\n",
       "    .dataframe thead th {\n",
       "        text-align: right;\n",
       "    }\n",
       "</style>\n",
       "<table border=\"1\" class=\"dataframe\">\n",
       "  <thead>\n",
       "    <tr style=\"text-align: right;\">\n",
       "      <th></th>\n",
       "      <th>housing_median_age</th>\n",
       "      <th>total_rooms</th>\n",
       "      <th>total_bedrooms</th>\n",
       "      <th>population</th>\n",
       "      <th>households</th>\n",
       "      <th>median_income</th>\n",
       "      <th>median_house_value</th>\n",
       "    </tr>\n",
       "  </thead>\n",
       "  <tbody>\n",
       "    <tr>\n",
       "      <td>0</td>\n",
       "      <td>41</td>\n",
       "      <td>880</td>\n",
       "      <td>129</td>\n",
       "      <td>322</td>\n",
       "      <td>126</td>\n",
       "      <td>8.3252</td>\n",
       "      <td>45.26</td>\n",
       "    </tr>\n",
       "    <tr>\n",
       "      <td>1</td>\n",
       "      <td>21</td>\n",
       "      <td>7099</td>\n",
       "      <td>1106</td>\n",
       "      <td>2401</td>\n",
       "      <td>1138</td>\n",
       "      <td>8.3014</td>\n",
       "      <td>35.85</td>\n",
       "    </tr>\n",
       "    <tr>\n",
       "      <td>2</td>\n",
       "      <td>52</td>\n",
       "      <td>1467</td>\n",
       "      <td>190</td>\n",
       "      <td>496</td>\n",
       "      <td>177</td>\n",
       "      <td>7.2574</td>\n",
       "      <td>35.21</td>\n",
       "    </tr>\n",
       "    <tr>\n",
       "      <td>3</td>\n",
       "      <td>52</td>\n",
       "      <td>1274</td>\n",
       "      <td>235</td>\n",
       "      <td>558</td>\n",
       "      <td>219</td>\n",
       "      <td>5.6431</td>\n",
       "      <td>34.13</td>\n",
       "    </tr>\n",
       "    <tr>\n",
       "      <td>4</td>\n",
       "      <td>52</td>\n",
       "      <td>1627</td>\n",
       "      <td>280</td>\n",
       "      <td>565</td>\n",
       "      <td>259</td>\n",
       "      <td>3.8462</td>\n",
       "      <td>34.22</td>\n",
       "    </tr>\n",
       "  </tbody>\n",
       "</table>\n",
       "</div>"
      ],
      "text/plain": [
       "   housing_median_age  total_rooms  total_bedrooms  population  households  \\\n",
       "0                  41          880             129         322         126   \n",
       "1                  21         7099            1106        2401        1138   \n",
       "2                  52         1467             190         496         177   \n",
       "3                  52         1274             235         558         219   \n",
       "4                  52         1627             280         565         259   \n",
       "\n",
       "   median_income  median_house_value  \n",
       "0         8.3252               45.26  \n",
       "1         8.3014               35.85  \n",
       "2         7.2574               35.21  \n",
       "3         5.6431               34.13  \n",
       "4         3.8462               34.22  "
      ]
     },
     "execution_count": 3,
     "metadata": {},
     "output_type": "execute_result"
    }
   ],
   "source": [
    "house.head()"
   ]
  },
  {
   "cell_type": "code",
   "execution_count": 5,
   "metadata": {},
   "outputs": [
    {
     "data": {
      "text/plain": [
       "(1000, 7)"
      ]
     },
     "execution_count": 5,
     "metadata": {},
     "output_type": "execute_result"
    }
   ],
   "source": [
    "house.shape"
   ]
  },
  {
   "cell_type": "code",
   "execution_count": 17,
   "metadata": {},
   "outputs": [
    {
     "name": "stdout",
     "output_type": "stream",
     "text": [
      "(1000, 6)\n",
      "(1000,)\n",
      "     housing_median_age  total_rooms  total_bedrooms  population  households  \\\n",
      "0                    41          880             129         322         126   \n",
      "1                    21         7099            1106        2401        1138   \n",
      "2                    52         1467             190         496         177   \n",
      "3                    52         1274             235         558         219   \n",
      "4                    52         1627             280         565         259   \n",
      "..                  ...          ...             ...         ...         ...   \n",
      "995                  11        12070            2220        5826        2125   \n",
      "996                  25          494              81         254          85   \n",
      "997                  22         5533             943        2474         910   \n",
      "998                  17         3956             639        2222         662   \n",
      "999                  12         1906             351         802         319   \n",
      "\n",
      "     median_income  \n",
      "0           8.3252  \n",
      "1           8.3014  \n",
      "2           7.2574  \n",
      "3           5.6431  \n",
      "4           3.8462  \n",
      "..             ...  \n",
      "995         4.8624  \n",
      "996         9.1531  \n",
      "997         4.7361  \n",
      "998         5.4324  \n",
      "999         4.9375  \n",
      "\n",
      "[1000 rows x 6 columns]\n",
      "0      45.26\n",
      "1      35.85\n",
      "2      35.21\n",
      "3      34.13\n",
      "4      34.22\n",
      "       ...  \n",
      "995    19.24\n",
      "996    41.88\n",
      "997    21.68\n",
      "998    21.55\n",
      "999    22.77\n",
      "Name: median_house_value, Length: 1000, dtype: float64\n"
     ]
    }
   ],
   "source": [
    "X = house[['housing_median_age', 'total_rooms', 'total_bedrooms', 'population', 'households', 'median_income']]\n",
    "\n",
    "y = house['median_house_value']\n",
    "\n",
    "print(X.shape)\n",
    "\n",
    "print(y.shape)\n",
    "\n",
    "print(X)\n",
    "\n",
    "print(y)"
   ]
  },
  {
   "cell_type": "code",
   "execution_count": 15,
   "metadata": {},
   "outputs": [],
   "source": [
    "from sklearn.model_selection import train_test_split"
   ]
  },
  {
   "cell_type": "code",
   "execution_count": 18,
   "metadata": {},
   "outputs": [],
   "source": [
    "X_train, X_test, y_train, y_test = train_test_split(X, y, test_size=0.3)"
   ]
  },
  {
   "cell_type": "code",
   "execution_count": 19,
   "metadata": {},
   "outputs": [
    {
     "name": "stdout",
     "output_type": "stream",
     "text": [
      "(700, 6)\n",
      "(700,)\n",
      "(300, 6)\n",
      "(300,)\n"
     ]
    }
   ],
   "source": [
    "# トレーニングデータのshapeを確認\n",
    "print(X_train.shape)\n",
    "\n",
    "\n",
    "print(y_train.shape)\n",
    "\n",
    "\n",
    "# テストデータのshapeを確認\n",
    "print(X_test.shape)\n",
    "\n",
    "\n",
    "print(y_test.shape)"
   ]
  },
  {
   "cell_type": "code",
   "execution_count": 20,
   "metadata": {},
   "outputs": [],
   "source": [
    "from sklearn.linear_model import LinearRegression"
   ]
  },
  {
   "cell_type": "code",
   "execution_count": 24,
   "metadata": {},
   "outputs": [
    {
     "name": "stdout",
     "output_type": "stream",
     "text": [
      "[ 8.32476986e-02  2.86123070e-04  4.84655784e-03 -3.64798170e-03\n",
      "  6.36749457e-03  3.84154510e+00] \n",
      "\n",
      "1.5543646662387012\n"
     ]
    }
   ],
   "source": [
    "lr = LinearRegression()\n",
    "\n",
    "lr.fit(X_train, y_train)\n",
    "       \n",
    " # 係数\n",
    "print(lr.coef_,'\\n')\n",
    " # 切片 (誤差)\n",
    "print(lr.intercept_)"
   ]
  },
  {
   "cell_type": "code",
   "execution_count": null,
   "metadata": {},
   "outputs": [],
   "source": []
  }
 ],
 "metadata": {
  "kernelspec": {
   "display_name": "Python 3",
   "language": "python",
   "name": "python3"
  },
  "language_info": {
   "codemirror_mode": {
    "name": "ipython",
    "version": 3
   },
   "file_extension": ".py",
   "mimetype": "text/x-python",
   "name": "python",
   "nbconvert_exporter": "python",
   "pygments_lexer": "ipython3",
   "version": "3.6.8"
  }
 },
 "nbformat": 4,
 "nbformat_minor": 2
}
