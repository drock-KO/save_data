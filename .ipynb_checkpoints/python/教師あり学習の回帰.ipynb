{
 "cells": [
  {
   "cell_type": "code",
   "execution_count": 6,
   "metadata": {},
   "outputs": [
    {
     "data": {
      "text/plain": [
       "(1000, 7)"
      ]
     },
     "execution_count": 6,
     "metadata": {},
     "output_type": "execute_result"
    }
   ],
   "source": [
    "import pandas as pd\n",
    "house = pd.read_csv('https://raw.githubusercontent.com/we-b/datasets_for_ai/master/cal_house.csv')\n",
    "\n",
    "house.head()\n",
    "\n",
    "house.shape"
   ]
  },
  {
   "cell_type": "code",
   "execution_count": 7,
   "metadata": {},
   "outputs": [
    {
     "name": "stdout",
     "output_type": "stream",
     "text": [
      "(1000, 6)\n",
      "(1000,)\n",
      "     housing_median_age  total_rooms  total_bedrooms  population  households  \\\n",
      "0                    41          880             129         322         126   \n",
      "1                    21         7099            1106        2401        1138   \n",
      "2                    52         1467             190         496         177   \n",
      "3                    52         1274             235         558         219   \n",
      "4                    52         1627             280         565         259   \n",
      "..                  ...          ...             ...         ...         ...   \n",
      "995                  11        12070            2220        5826        2125   \n",
      "996                  25          494              81         254          85   \n",
      "997                  22         5533             943        2474         910   \n",
      "998                  17         3956             639        2222         662   \n",
      "999                  12         1906             351         802         319   \n",
      "\n",
      "     median_income  \n",
      "0           8.3252  \n",
      "1           8.3014  \n",
      "2           7.2574  \n",
      "3           5.6431  \n",
      "4           3.8462  \n",
      "..             ...  \n",
      "995         4.8624  \n",
      "996         9.1531  \n",
      "997         4.7361  \n",
      "998         5.4324  \n",
      "999         4.9375  \n",
      "\n",
      "[1000 rows x 6 columns]\n",
      "0      45.26\n",
      "1      35.85\n",
      "2      35.21\n",
      "3      34.13\n",
      "4      34.22\n",
      "       ...  \n",
      "995    19.24\n",
      "996    41.88\n",
      "997    21.68\n",
      "998    21.55\n",
      "999    22.77\n",
      "Name: median_house_value, Length: 1000, dtype: float64\n"
     ]
    }
   ],
   "source": [
    "X = house[['housing_median_age', 'total_rooms', 'total_bedrooms', 'population', 'households', 'median_income']]\n",
    "\n",
    "y = house['median_house_value']\n",
    "\n",
    "print(X.shape)\n",
    "\n",
    "print(y.shape)\n",
    "\n",
    "print(X)\n",
    "\n",
    "print(y)"
   ]
  },
  {
   "cell_type": "code",
   "execution_count": 12,
   "metadata": {},
   "outputs": [
    {
     "name": "stdout",
     "output_type": "stream",
     "text": [
      "(700, 6)\n",
      "(700,)\n",
      "(300, 6)\n",
      "(300,)\n"
     ]
    }
   ],
   "source": [
    "#データの前処理\n",
    "\n",
    "from sklearn.model_selection import train_test_split\n",
    "\n",
    "x_train, x_test, y_train, y_test = train_test_split(X, y, test_size=0.3)\n",
    "\n",
    "print(x_train.shape)\n",
    "print(y_train.shape)\n",
    "\n",
    "print(x_test.shape)\n",
    "print(y_test.shape)"
   ]
  },
  {
   "cell_type": "code",
   "execution_count": 17,
   "metadata": {},
   "outputs": [
    {
     "name": "stdout",
     "output_type": "stream",
     "text": [
      "[ 8.91247421e-02 -1.43755261e-04  2.05162506e-03 -3.48025438e-03\n",
      "  1.15724531e-02  3.92349199e+00]\n",
      "1.012506503774862\n"
     ]
    }
   ],
   "source": [
    "#機械学習アルゴリズムの選択\n",
    "\n",
    "from sklearn.linear_model import LinearRegression\n",
    "\n",
    "lr = LinearRegression()\n",
    "\n",
    "lr.fit(x_train, y_train)\n",
    "\n",
    "print(lr.coef_)\n",
    "\n",
    "print(lr.intercept_)"
   ]
  },
  {
   "cell_type": "code",
   "execution_count": 19,
   "metadata": {},
   "outputs": [
    {
     "name": "stdout",
     "output_type": "stream",
     "text": [
      "0.6103557504149539\n",
      "0.6629221245269776\n"
     ]
    }
   ],
   "source": [
    "#モデルの評価 = 機械学習で作ったモデルの信憑性の高さを評価\n",
    "\n",
    "print(lr.score(x_train, y_train)) #1に近づくほど信憑性が高い\n",
    "\n",
    "print(lr.score(x_test, y_test))"
   ]
  },
  {
   "cell_type": "code",
   "execution_count": 38,
   "metadata": {},
   "outputs": [
    {
     "data": {
      "image/png": "[encoded data removed]",
      "text/plain": [
       "<Figure size 432x288 with 1 Axes>"
      ]
     },
     "metadata": {
      "needs_background": "light"
     },
     "output_type": "display_data"
    }
   ],
   "source": [
    "#線形多項回帰\n",
    "\n",
    "import numpy as np\n",
    "import matplotlib.pyplot as plt\n",
    "%matplotlib inline\n",
    "\n",
    "def func(x):\n",
    "    return np.sin(2 * np.pi * x)\n",
    "\n",
    "def create_toy_data(func, low=0, high=1, size=10, sigma=1.0):\n",
    "    x = np.random.uniform(low, high, size) #一様分布に従う、0~1の間にある数xをランダムに10個生成\n",
    "    t = func(x) + np.random.normal(scale=sigma, size=size) #t=sin(2πx)+[平均0,標準偏差1の正規分布に従う乱数]となるtを10個生成\n",
    "    return x, t\n",
    "\n",
    "x, t = create_toy_data(func, low=0, high=1, size=10, sigma=0.25)\n",
    "plt.scatter(x, t, s=50, marker='o', alpha=0.5, label=\"observation\")\n",
    "plt.legend()\n",
    "plt.show()"
   ]
  },
  {
   "cell_type": "code",
   "execution_count": 33,
   "metadata": {},
   "outputs": [
    {
     "data": {
      "image/png": "[encoded data removed]",
      "text/plain": [
       "<Figure size 432x288 with 1 Axes>"
      ]
     },
     "metadata": {
      "needs_background": "light"
     },
     "output_type": "display_data"
    },
    {
     "data": {
      "image/png": "[encoded data removed]",
      "text/plain": [
       "<Figure size 432x288 with 1 Axes>"
      ]
     },
     "metadata": {
      "needs_background": "light"
     },
     "output_type": "display_data"
    }
   ],
   "source": [
    "import numpy as np\n",
    "from scipy.stats import uniform\n",
    "import matplotlib.pyplot as plt\n",
    "\n",
    "#一様分布の描画\n",
    "\n",
    "x_u = np.arange(0, 1, 0.01)\n",
    "y_u = uniform.pdf(x_u)\n",
    "\n",
    "plt.plot(x_u, y_u, color='red')\n",
    "plt.show()\n",
    "\n",
    "#正規分布の描画\n",
    "\n",
    "from scipy.stats import norm\n",
    "\n",
    "x_n = np.arange(-5, 5, 0.1)\n",
    "y_n = norm.pdf(x_n, 0, 1) #平均0,標準偏差1\n",
    "\n",
    "plt.plot(x_n, y_n, color='blue')\n",
    "plt.show()"
   ]
  },
  {
   "cell_type": "code",
   "execution_count": 54,
   "metadata": {},
   "outputs": [
    {
     "name": "stdout",
     "output_type": "stream",
     "text": [
      "[[0.04660698]\n",
      " [0.71194632]\n",
      " [0.83447603]\n",
      " [0.06180522]\n",
      " [0.59960559]\n",
      " [0.04142827]\n",
      " [0.42939175]\n",
      " [0.00114466]\n",
      " [0.94827749]\n",
      " [0.58336687]]\n",
      "[[1.00000000e+00 4.66069776e-02 2.17221036e-03 1.01240160e-04\n",
      "  4.71849785e-06 2.19914924e-07]\n",
      " [1.00000000e+00 7.11946320e-01 5.06867563e-01 3.60862496e-01\n",
      "  2.56914726e-01 1.82909494e-01]\n",
      " [1.00000000e+00 8.34476032e-01 6.96350248e-01 5.81087592e-01\n",
      "  4.84903668e-01 4.04640489e-01]\n",
      " [1.00000000e+00 6.18052229e-02 3.81988558e-03 2.36088879e-04\n",
      "  1.45915258e-05 9.01832505e-07]\n",
      " [1.00000000e+00 5.99605591e-01 3.59526864e-01 2.15574318e-01\n",
      "  1.29259566e-01 7.75047585e-02]\n",
      " [1.00000000e+00 4.14282705e-02 1.71630160e-03 7.11034070e-05\n",
      "  2.94569118e-06 1.22034891e-07]\n",
      " [1.00000000e+00 4.29391745e-01 1.84377271e-01 7.91700782e-02\n",
      "  3.39949781e-02 1.45971630e-02]\n",
      " [1.00000000e+00 1.14466322e-03 1.31025388e-06 1.49979942e-09\n",
      "  1.71676522e-12 1.96511800e-15]\n",
      " [1.00000000e+00 9.48277485e-01 8.99230189e-01 8.52719742e-01\n",
      "  8.08614933e-01 7.66791335e-01]\n",
      " [1.00000000e+00 5.83366871e-01 3.40316907e-01 1.98529609e-01\n",
      "  1.15815597e-01 6.75629825e-02]]\n"
     ]
    },
    {
     "data": {
      "image/png": "[encoded data removed]",
      "text/plain": [
       "<Figure size 432x288 with 1 Axes>"
      ]
     },
     "metadata": {
      "needs_background": "light"
     },
     "output_type": "display_data"
    },
    {
     "name": "stdout",
     "output_type": "stream",
     "text": [
      "[  0.           0.14466878  -5.03355837  31.19313601 -70.5454204\n",
      "  44.90163176]\n",
      "0.24305246365941757\n",
      "0.9242317878453986\n"
     ]
    }
   ],
   "source": [
    "#線形多項回帰モデルを適用する\n",
    "from sklearn.linear_model import LinearRegression\n",
    "from sklearn.preprocessing import PolynomialFeatures\n",
    "\n",
    "model = LinearRegression()\n",
    "\n",
    "#中間目標の確認 = 説明変数と目的変数のtrainデータから回帰式を学習させること。\n",
    "x_r = x.reshape(-1, 1)\n",
    "print(x_r)\n",
    "\n",
    "poly = PolynomialFeatures(degree=5)\n",
    "x_train = poly.fit_transform(x_r) #x_rに格納された変数を[1, x , x^2,・・・・]と変換する\n",
    "print(x_train)\n",
    "\n",
    "model.fit(x_train, t)\n",
    "\n",
    "#学習結果をグラフに描画\n",
    "x_test = np.linspace(0, 1, 100) #0~1間で100個のデータを作成\n",
    "X_test = poly.transform(x_test.reshape(-1, 1))\n",
    "\n",
    "pred_y = model.predict(X_test)\n",
    "\n",
    "plt.scatter(x, t, s=50, marker='o', alpha=0.5, label=\"observed\")\n",
    "plt.plot(x_test, func(x_test), color='blue', label=\"sin($2\\pi x$)\")\n",
    "plt.plot(x_test, pred_y, color='red', label=\"predict_mean\")\n",
    "plt.legend()\n",
    "plt.xlabel(\"x\")\n",
    "plt.ylabel(\"t\")\n",
    "plt.show()\n",
    "\n",
    "print(model.coef_)\n",
    "\n",
    "print(model.intercept_)\n",
    "\n",
    "print(model.score(x_train, t))\n"
   ]
  },
  {
   "cell_type": "code",
   "execution_count": null,
   "metadata": {},
   "outputs": [],
   "source": []
  }
 ],
 "metadata": {
  "kernelspec": {
   "display_name": "Python 3",
   "language": "python",
   "name": "python3"
  },
  "language_info": {
   "codemirror_mode": {
    "name": "ipython",
    "version": 3
   },
   "file_extension": ".py",
   "mimetype": "text/x-python",
   "name": "python",
   "nbconvert_exporter": "python",
   "pygments_lexer": "ipython3",
   "version": "3.6.8"
  }
 },
 "nbformat": 4,
 "nbformat_minor": 2
}
