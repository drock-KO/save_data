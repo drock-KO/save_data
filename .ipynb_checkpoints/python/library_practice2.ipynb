{
 "cells": [
  {
   "cell_type": "code",
   "execution_count": 3,
   "metadata": {},
   "outputs": [
    {
     "name": "stdout",
     "output_type": "stream",
     "text": [
      "[1 2 3 4 5 6 7 8 9]\n"
     ]
    }
   ],
   "source": [
    "import numpy as num\n",
    "#1以上10未満\n",
    "x = num.arange(1,10)\n",
    "print(x)"
   ]
  },
  {
   "cell_type": "code",
   "execution_count": 10,
   "metadata": {},
   "outputs": [
    {
     "name": "stdout",
     "output_type": "stream",
     "text": [
      "3.0\n",
      "3.0\n"
     ]
    }
   ],
   "source": [
    "list = [1,2,3,4,5]\n",
    "sum = 0\n",
    "for i in range(len(list)):\n",
    "    sum = sum + list[i]\n",
    "ave = sum / (len(list))\n",
    "print(ave)\n",
    "\n",
    "array = num.array([1,2,3,4,5])\n",
    "mean = num.mean(array)\n",
    "print(ave)"
   ]
  },
  {
   "cell_type": "code",
   "execution_count": 10,
   "metadata": {},
   "outputs": [
    {
     "name": "stdout",
     "output_type": "stream",
     "text": [
      "[0.   1.25 2.5  3.75 5.  ] [ 6.  7.  8.  9. 10.] # xとyを結合前の中身\n",
      "[ 0.    1.25  2.5   3.75  5.    6.    7.    8.    9.   10.  ] #結合後の中身\n",
      "5.25\n",
      "52.5\n",
      "3.181980515339464\n"
     ]
    },
    {
     "data": {
      "text/plain": [
       "[<matplotlib.lines.Line2D at 0x7f43a8f1a240>]"
      ]
     },
     "execution_count": 10,
     "metadata": {},
     "output_type": "execute_result"
    },
    {
     "data": {
      "image/png": "[encoded data removed]",
      "text/plain": [
       "<Figure size 432x288 with 1 Axes>"
      ]
     },
     "metadata": {
      "needs_background": "light"
     },
     "output_type": "display_data"
    }
   ],
   "source": [
    "import numpy as num\n",
    "\n",
    "x = num.linspace(0,5,5)\n",
    "\n",
    "y = num.linspace(6,10,5)\n",
    "\n",
    "print(x, y, \"# xとyを結合前の中身\")\n",
    "\n",
    "xy = num.concatenate([x,y])\n",
    "\n",
    "print(xy, \"#結合後の中身\")\n",
    "\n",
    "print(xy.mean())\n",
    "\n",
    "print(xy.sum())\n",
    "\n",
    "print(xy.std())\n",
    "\n",
    "import matplotlib.pyplot as plt\n",
    "\n",
    "%matplotlib inline\n",
    "\n",
    "plt.plot(x,y)"
   ]
  },
  {
   "cell_type": "code",
   "execution_count": 13,
   "metadata": {},
   "outputs": [
    {
     "name": "stdout",
     "output_type": "stream",
     "text": [
      "[ 6.    5.    7.    3.75  0.    2.5   1.25  8.   10.    9.  ]\n"
     ]
    },
    {
     "data": {
      "text/plain": [
       "<matplotlib.collections.PathCollection at 0x7f43a87cc748>"
      ]
     },
     "execution_count": 13,
     "metadata": {},
     "output_type": "execute_result"
    },
    {
     "data": {
      "image/png": "[encoded data removed]",
      "text/plain": [
       "<Figure size 432x288 with 1 Axes>"
      ]
     },
     "metadata": {
      "needs_background": "light"
     },
     "output_type": "display_data"
    }
   ],
   "source": [
    "num.random.shuffle(xy)\n",
    "print(xy)\n",
    "\n",
    "plt.scatter(x,y,c='red', marker='o')"
   ]
  },
  {
   "cell_type": "code",
   "execution_count": 27,
   "metadata": {},
   "outputs": [
    {
     "name": "stdout",
     "output_type": "stream",
     "text": [
      "151\n",
      "['Mewtwo' 680 106 110 90 154 90 130 True]\n",
      "name HP\n",
      " [['Bulbasaur' 45]\n",
      " ['Ivysaur' 60]\n",
      " ['Venusaur' 80]\n",
      " ['Charmander' 39]\n",
      " ['Charmeleon' 58]\n",
      " ['Charizard' 78]\n",
      " ['Squirtle' 44]\n",
      " ['Wartortle' 59]\n",
      " ['Blastoise' 79]\n",
      " ['Caterpie' 45]\n",
      " ['Metapod' 50]\n",
      " ['Butterfree' 60]\n",
      " ['Weedle' 40]\n",
      " ['Kakuna' 45]\n",
      " ['Beedrill' 65]\n",
      " ['Pidgey' 40]\n",
      " ['Pidgeotto' 63]\n",
      " ['Pidgeot' 83]\n",
      " ['Rattata' 30]\n",
      " ['Raticate' 55]\n",
      " ['Spearow' 40]\n",
      " ['Fearow' 65]\n",
      " ['Ekans' 35]\n",
      " ['Arbok' 60]\n",
      " ['Pikachu' 35]\n",
      " ['Raichu' 60]\n",
      " ['Sandshrew' 50]\n",
      " ['Sandslash' 75]\n",
      " ['Nidoran' 55]\n",
      " ['Nidorina' 70]\n",
      " ['Nidoqueen' 90]\n",
      " ['Nidoran' 46]\n",
      " ['Nidorino' 61]\n",
      " ['Nidoking' 81]\n",
      " ['Clefairy' 70]\n",
      " ['Clefable' 95]\n",
      " ['Vulpix' 38]\n",
      " ['Ninetales' 73]\n",
      " ['Jigglypuff' 115]\n",
      " ['Wigglytuff' 140]\n",
      " ['Zubat' 40]\n",
      " ['Golbat' 75]\n",
      " ['Oddish' 45]\n",
      " ['Gloom' 60]\n",
      " ['Vileplume' 75]\n",
      " ['Paras' 35]\n",
      " ['Parasect' 60]\n",
      " ['Venonat' 60]\n",
      " ['Venomoth' 70]\n",
      " ['Diglett' 10]\n",
      " ['Dugtrio' 35]\n",
      " ['Meowth' 40]\n",
      " ['Persian' 65]\n",
      " ['Psyduck' 50]\n",
      " ['Golduck' 80]\n",
      " ['Mankey' 40]\n",
      " ['Primeape' 65]\n",
      " ['Growlithe' 55]\n",
      " ['Arcanine' 90]\n",
      " ['Poliwag' 40]\n",
      " ['Poliwhirl' 65]\n",
      " ['Poliwrath' 90]\n",
      " ['Abra' 25]\n",
      " ['Kadabra' 40]\n",
      " ['Alakazam' 55]\n",
      " ['Machop' 70]\n",
      " ['Machoke' 80]\n",
      " ['Machamp' 90]\n",
      " ['Bellsprout' 50]\n",
      " ['Weepinbell' 65]\n",
      " ['Victreebel' 80]\n",
      " ['Tentacool' 40]\n",
      " ['Tentacruel' 80]\n",
      " ['Geodude' 40]\n",
      " ['Graveler' 55]\n",
      " ['Golem' 80]\n",
      " ['Ponyta' 50]\n",
      " ['Rapidash' 65]\n",
      " ['Slowpoke' 90]\n",
      " ['Slowbro' 95]\n",
      " ['Magnemite' 25]\n",
      " ['Magneton' 50]\n",
      " [\"Farfetch'd\" 52]\n",
      " ['Doduo' 35]\n",
      " ['Dodrio' 60]\n",
      " ['Seel' 65]\n",
      " ['Dewgong' 90]\n",
      " ['Grimer' 80]\n",
      " ['Muk' 105]\n",
      " ['Shellder' 30]\n",
      " ['Cloyster' 50]\n",
      " ['Gastly' 30]\n",
      " ['Haunter' 45]\n",
      " ['Gengar' 60]\n",
      " ['Onix' 35]\n",
      " ['Drowzee' 60]\n",
      " ['Hypno' 85]\n",
      " ['Krabby' 30]\n",
      " ['Kingler' 55]\n",
      " ['Voltorb' 40]\n",
      " ['Electrode' 60]\n",
      " ['Exeggcute' 60]\n",
      " ['Exeggutor' 95]\n",
      " ['Cubone' 50]\n",
      " ['Marowak' 60]\n",
      " ['Hitmonlee' 50]\n",
      " ['Hitmonchan' 50]\n",
      " ['Lickitung' 90]\n",
      " ['Koffing' 40]\n",
      " ['Weezing' 65]\n",
      " ['Rhyhorn' 80]\n",
      " ['Rhydon' 105]\n",
      " ['Chansey' 250]\n",
      " ['Tangela' 65]\n",
      " ['Kangaskhan' 105]\n",
      " ['Horsea' 30]\n",
      " ['Seadra' 55]\n",
      " ['Goldeen' 45]\n",
      " ['Seaking' 80]\n",
      " ['Staryu' 30]\n",
      " ['Starmie' 60]\n",
      " ['Mr. Mime' 40]\n",
      " ['Scyther' 70]\n",
      " ['Jynx' 65]\n",
      " ['Electabuzz' 65]\n",
      " ['Magmar' 65]\n",
      " ['Pinsir' 65]\n",
      " ['Tauros' 75]\n",
      " ['Magikarp' 20]\n",
      " ['Gyarados' 95]\n",
      " ['Lapras' 130]\n",
      " ['Ditto' 48]\n",
      " ['Eevee' 55]\n",
      " ['Vaporeon' 130]\n",
      " ['Jolteon' 65]\n",
      " ['Flareon' 65]\n",
      " ['Porygon' 65]\n",
      " ['Omanyte' 35]\n",
      " ['Omastar' 70]\n",
      " ['Kabuto' 30]\n",
      " ['Kabutops' 60]\n",
      " ['Aerodactyl' 80]\n",
      " ['Snorlax' 160]\n",
      " ['Articuno' 90]\n",
      " ['Zapdos' 90]\n",
      " ['Moltres' 90]\n",
      " ['Dratini' 41]\n",
      " ['Dragonair' 61]\n",
      " ['Dragonite' 91]\n",
      " ['Mewtwo' 106]\n",
      " ['Mew' 100]]\n",
      "[['Bulbasaur' 318 45 49 49 65 65 45 False]\n",
      " ['Ivysaur' 405 60 62 63 80 80 60 False]\n",
      " ['Venusaur' 525 80 82 83 100 100 80 False]] \n",
      "\n"
     ]
    }
   ],
   "source": [
    "import pandas as pd\n",
    "pokemon = pd.read_csv('https://raw.githubusercontent.com/we-b/datasets_for_ai/master/poke.csv')\n",
    "\n",
    "pokemon.head()\n",
    "\n",
    "import numpy as np\n",
    "x = np.array(pokemon)\n",
    "\n",
    "x.shape\n",
    "\n",
    "print(x.shape[0])\n",
    "\n",
    "print(x[149, :])\n",
    "\n",
    "print(\"name HP\\n\", x[:, [0,2]])\n",
    "\n",
    "print(x[0:3], '\\n')"
   ]
  },
  {
   "cell_type": "code",
   "execution_count": 30,
   "metadata": {},
   "outputs": [
    {
     "name": "stdout",
     "output_type": "stream",
     "text": [
      "[[45 49 49 65 65 45]\n",
      " [60 62 63 80 80 60]\n",
      " [80 82 83 100 100 80]\n",
      " [39 52 43 60 50 65]\n",
      " [58 64 58 80 65 80]\n",
      " [78 84 78 109 85 100]\n",
      " [44 48 65 50 64 43]\n",
      " [59 63 80 65 80 58]\n",
      " [79 83 100 85 105 78]\n",
      " [45 30 35 20 20 45]\n",
      " [50 20 55 25 25 30]\n",
      " [60 45 50 90 80 70]\n",
      " [40 35 30 20 20 50]\n",
      " [45 25 50 25 25 35]\n",
      " [65 90 40 45 80 75]\n",
      " [40 45 40 35 35 56]\n",
      " [63 60 55 50 50 71]\n",
      " [83 80 75 70 70 101]\n",
      " [30 56 35 25 35 72]\n",
      " [55 81 60 50 70 97]\n",
      " [40 60 30 31 31 70]\n",
      " [65 90 65 61 61 100]\n",
      " [35 60 44 40 54 55]\n",
      " [60 85 69 65 79 80]\n",
      " [35 55 40 50 50 90]\n",
      " [60 90 55 90 80 110]\n",
      " [50 75 85 20 30 40]\n",
      " [75 100 110 45 55 65]\n",
      " [55 47 52 40 40 41]\n",
      " [70 62 67 55 55 56]\n",
      " [90 92 87 75 85 76]\n",
      " [46 57 40 40 40 50]\n",
      " [61 72 57 55 55 65]\n",
      " [81 102 77 85 75 85]\n",
      " [70 45 48 60 65 35]\n",
      " [95 70 73 95 90 60]\n",
      " [38 41 40 50 65 65]\n",
      " [73 76 75 81 100 100]\n",
      " [115 45 20 45 25 20]\n",
      " [140 70 45 85 50 45]\n",
      " [40 45 35 30 40 55]\n",
      " [75 80 70 65 75 90]\n",
      " [45 50 55 75 65 30]\n",
      " [60 65 70 85 75 40]\n",
      " [75 80 85 110 90 50]\n",
      " [35 70 55 45 55 25]\n",
      " [60 95 80 60 80 30]\n",
      " [60 55 50 40 55 45]\n",
      " [70 65 60 90 75 90]\n",
      " [10 55 25 35 45 95]\n",
      " [35 80 50 50 70 120]\n",
      " [40 45 35 40 40 90]\n",
      " [65 70 60 65 65 115]\n",
      " [50 52 48 65 50 55]\n",
      " [80 82 78 95 80 85]\n",
      " [40 80 35 35 45 70]\n",
      " [65 105 60 60 70 95]\n",
      " [55 70 45 70 50 60]\n",
      " [90 110 80 100 80 95]\n",
      " [40 50 40 40 40 90]\n",
      " [65 65 65 50 50 90]\n",
      " [90 95 95 70 90 70]\n",
      " [25 20 15 105 55 90]\n",
      " [40 35 30 120 70 105]\n",
      " [55 50 45 135 95 120]\n",
      " [70 80 50 35 35 35]\n",
      " [80 100 70 50 60 45]\n",
      " [90 130 80 65 85 55]\n",
      " [50 75 35 70 30 40]\n",
      " [65 90 50 85 45 55]\n",
      " [80 105 65 100 70 70]\n",
      " [40 40 35 50 100 70]\n",
      " [80 70 65 80 120 100]\n",
      " [40 80 100 30 30 20]\n",
      " [55 95 115 45 45 35]\n",
      " [80 120 130 55 65 45]\n",
      " [50 85 55 65 65 90]\n",
      " [65 100 70 80 80 105]\n",
      " [90 65 65 40 40 15]\n",
      " [95 75 110 100 80 30]\n",
      " [25 35 70 95 55 45]\n",
      " [50 60 95 120 70 70]\n",
      " [52 65 55 58 62 60]\n",
      " [35 85 45 35 35 75]\n",
      " [60 110 70 60 60 100]\n",
      " [65 45 55 45 70 45]\n",
      " [90 70 80 70 95 70]\n",
      " [80 80 50 40 50 25]\n",
      " [105 105 75 65 100 50]\n",
      " [30 65 100 45 25 40]\n",
      " [50 95 180 85 45 70]\n",
      " [30 35 30 100 35 80]\n",
      " [45 50 45 115 55 95]\n",
      " [60 65 60 130 75 110]\n",
      " [35 45 160 30 45 70]\n",
      " [60 48 45 43 90 42]\n",
      " [85 73 70 73 115 67]\n",
      " [30 105 90 25 25 50]\n",
      " [55 130 115 50 50 75]\n",
      " [40 30 50 55 55 100]\n",
      " [60 50 70 80 80 140]\n",
      " [60 40 80 60 45 40]\n",
      " [95 95 85 125 65 55]\n",
      " [50 50 95 40 50 35]\n",
      " [60 80 110 50 80 45]\n",
      " [50 120 53 35 110 87]\n",
      " [50 105 79 35 110 76]\n",
      " [90 55 75 60 75 30]\n",
      " [40 65 95 60 45 35]\n",
      " [65 90 120 85 70 60]\n",
      " [80 85 95 30 30 25]\n",
      " [105 130 120 45 45 40]\n",
      " [250 5 5 35 105 50]\n",
      " [65 55 115 100 40 60]\n",
      " [105 95 80 40 80 90]\n",
      " [30 40 70 70 25 60]\n",
      " [55 65 95 95 45 85]\n",
      " [45 67 60 35 50 63]\n",
      " [80 92 65 65 80 68]\n",
      " [30 45 55 70 55 85]\n",
      " [60 75 85 100 85 115]\n",
      " [40 45 65 100 120 90]\n",
      " [70 110 80 55 80 105]\n",
      " [65 50 35 115 95 95]\n",
      " [65 83 57 95 85 105]\n",
      " [65 95 57 100 85 93]\n",
      " [65 125 100 55 70 85]\n",
      " [75 100 95 40 70 110]\n",
      " [20 10 55 15 20 80]\n",
      " [95 125 79 60 100 81]\n",
      " [130 85 80 85 95 60]\n",
      " [48 48 48 48 48 48]\n",
      " [55 55 50 45 65 55]\n",
      " [130 65 60 110 95 65]\n",
      " [65 65 60 110 95 130]\n",
      " [65 130 60 95 110 65]\n",
      " [65 60 70 85 75 40]\n",
      " [35 40 100 90 55 35]\n",
      " [70 60 125 115 70 55]\n",
      " [30 80 90 55 45 55]\n",
      " [60 115 105 65 70 80]\n",
      " [80 105 65 60 75 130]\n",
      " [160 110 65 65 110 30]\n",
      " [90 85 100 95 125 85]\n",
      " [90 90 85 125 90 100]\n",
      " [90 100 90 125 85 90]\n",
      " [41 64 45 50 50 50]\n",
      " [61 84 65 70 70 70]\n",
      " [91 134 95 100 100 80]\n",
      " [106 110 90 154 90 130]\n",
      " [100 100 100 100 100 100]]\n",
      "(151, 6)\n"
     ]
    }
   ],
   "source": [
    "x_slice = x[:, 2:8]\n",
    "\n",
    "print(x_slice)\n",
    "\n",
    "print(x_slice.shape)"
   ]
  },
  {
   "cell_type": "code",
   "execution_count": 33,
   "metadata": {},
   "outputs": [
    {
     "name": "stdout",
     "output_type": "stream",
     "text": [
      "[3 3 3 5 3 3 2 2 4 0 2 3 5 2 1 5 5 5 5 5 5 5 1 1 5 5 2 2 0 0 1 1 1 1 0 0 4\n",
      " 4 0 0 5 5 3 3 3 1 1 0 3 5 5 5 5 3 3 1 1 1 1 5 5 1 3 3 3 1 1 1 1 1 1 4 4 2\n",
      " 2 2 5 5 0 2 3 3 1 1 1 4 4 0 0 2 2 3 3 3 2 4 4 1 1 5 5 2 3 2 2 1 4 0 2 2 2\n",
      " 1 0 2 0 2 2 1 1 5 5 4 1 3 5 3 1 5 5 1 0 0 4 0 5 1 3 2 2 2 1 5 0 4 3 3 1 1\n",
      " 1 3 0]\n",
      "(151,)\n"
     ]
    }
   ],
   "source": [
    "zero = num.argmax(x_slice, axis=1)\n",
    "print(zero)\n",
    "print(zero.shape)"
   ]
  },
  {
   "cell_type": "code",
   "execution_count": 35,
   "metadata": {},
   "outputs": [
    {
     "name": "stdout",
     "output_type": "stream",
     "text": [
      "[['Bulbasaur' 318 45 49 49 65 65 45 False]\n",
      " ['Ivysaur' 405 60 62 63 80 80 60 False]\n",
      " ['Venusaur' 525 80 82 83 100 100 80 False]]\n",
      "[['Charmander' 309 39 52 43 60 50 65 False]\n",
      " ['Charmeleon' 405 58 64 58 80 65 80 False]\n",
      " ['Charizard' 534 78 84 78 109 85 100 False]]\n",
      "(3, 9)\n",
      "(3, 9)\n",
      "(6, 9)\n"
     ]
    }
   ],
   "source": [
    "a = x[0:3]\n",
    "b = x[3:6]\n",
    "print(a)\n",
    "print(b)\n",
    "print(a.shape)\n",
    "print(b.shape)\n",
    "\n",
    "print(num.concatenate((a,b), axis=0).shape)"
   ]
  },
  {
   "cell_type": "code",
   "execution_count": 6,
   "metadata": {},
   "outputs": [
    {
     "name": "stdout",
     "output_type": "stream",
     "text": [
      "['Bulbasaur' 318 45 ... 100 100 False]\n",
      "(1359,)\n"
     ]
    },
    {
     "ename": "AttributeError",
     "evalue": "'int' object has no attribute 'set_printoptions'",
     "output_type": "error",
     "traceback": [
      "\u001b[0;31m---------------------------------------------------------------------------\u001b[0m",
      "\u001b[0;31mAttributeError\u001b[0m                            Traceback (most recent call last)",
      "\u001b[0;32m<ipython-input-6-e6f00c6db7d7>\u001b[0m in \u001b[0;36m<module>\u001b[0;34m\u001b[0m\n\u001b[1;32m      8\u001b[0m \u001b[0mx\u001b[0m\u001b[0;34m.\u001b[0m\u001b[0mreshape\u001b[0m\u001b[0;34m(\u001b[0m\u001b[0;34m-\u001b[0m\u001b[0;36m1\u001b[0m\u001b[0;34m,\u001b[0m \u001b[0;34m)\u001b[0m\u001b[0;34m.\u001b[0m\u001b[0mshape\u001b[0m\u001b[0;34m\u001b[0m\u001b[0;34m\u001b[0m\u001b[0m\n\u001b[1;32m      9\u001b[0m \u001b[0;34m\u001b[0m\u001b[0m\n\u001b[0;32m---> 10\u001b[0;31m \u001b[0mnum\u001b[0m\u001b[0;34m.\u001b[0m\u001b[0mset_printoptions\u001b[0m\u001b[0;34m(\u001b[0m\u001b[0mthreshold\u001b[0m\u001b[0;34m=\u001b[0m\u001b[0mnum\u001b[0m\u001b[0;34m.\u001b[0m\u001b[0minf\u001b[0m\u001b[0;34m)\u001b[0m\u001b[0;34m\u001b[0m\u001b[0;34m\u001b[0m\u001b[0m\n\u001b[0m\u001b[1;32m     11\u001b[0m \u001b[0mprint\u001b[0m\u001b[0;34m(\u001b[0m\u001b[0mreshape_x\u001b[0m\u001b[0;34m)\u001b[0m\u001b[0;34m\u001b[0m\u001b[0;34m\u001b[0m\u001b[0m\n",
      "\u001b[0;31mAttributeError\u001b[0m: 'int' object has no attribute 'set_printoptions'"
     ]
    }
   ],
   "source": [
    "\n",
    "\n",
    "num = x.shape[0] * x.shape[1]\n",
    "num\n",
    "\n",
    "reshape_x = x.reshape(num, )\n",
    "print(reshape_x)\n",
    "print(reshape_x.shape)\n",
    "\n",
    "x.reshape(-1, ).shape\n",
    "\n",
    "num.set_printoptions(threshold=num.inf)\n",
    "print(reshape_x)\n"
   ]
  },
  {
   "cell_type": "code",
   "execution_count": null,
   "metadata": {},
   "outputs": [],
   "source": []
  }
 ],
 "metadata": {
  "kernelspec": {
   "display_name": "Python 3",
   "language": "python",
   "name": "python3"
  },
  "language_info": {
   "codemirror_mode": {
    "name": "ipython",
    "version": 3
   },
   "file_extension": ".py",
   "mimetype": "text/x-python",
   "name": "python",
   "nbconvert_exporter": "python",
   "pygments_lexer": "ipython3",
   "version": "3.6.8"
  }
 },
 "nbformat": 4,
 "nbformat_minor": 2
}
