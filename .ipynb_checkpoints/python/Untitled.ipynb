{
 "cells": [
  {
   "cell_type": "code",
   "execution_count": 7,
   "metadata": {},
   "outputs": [
    {
     "name": "stdout",
     "output_type": "stream",
     "text": [
      "       職業\n",
      "0      教師\n",
      "1     NaN\n",
      "2     NaN\n",
      "3  プログラマー\n"
     ]
    }
   ],
   "source": [
    "import pandas as pd\n",
    "# 元データ。要素として文字列が含まれている\n",
    "df1 = pd.DataFrame({'職業':['教師', 'プログラマー', '公務員']})\n",
    "df1\n",
    "\n",
    "df1['職業'] = df1['職業'].str.replace('教師', '0')\n",
    "df1['職業'] = df1['職業'].str.replace('プログラマー', '1')\n",
    "df1['職業'] = df1['職業'].str.replace('公務員', '2')\n",
    "\n",
    "df1['職業'] = df1['職業'].astype(float)\n",
    "\n",
    "df1\n",
    "\n",
    "import numpy as np\n",
    "\n",
    "# 2番目と3番目のデータが欠損しているデータ\n",
    "df2 = pd.DataFrame({'職業':['教師', np.nan, np.nan, 'プログラマー']})\n",
    "print(df2)\n",
    "\n",
    "df2 = df2.dropna(subset=['職業'])\n"
   ]
  },
  {
   "cell_type": "code",
   "execution_count": null,
   "metadata": {},
   "outputs": [],
   "source": []
  }
 ],
 "metadata": {
  "kernelspec": {
   "display_name": "Python 3",
   "language": "python",
   "name": "python3"
  },
  "language_info": {
   "codemirror_mode": {
    "name": "ipython",
    "version": 3
   },
   "file_extension": ".py",
   "mimetype": "text/x-python",
   "name": "python",
   "nbconvert_exporter": "python",
   "pygments_lexer": "ipython3",
   "version": "3.6.8"
  }
 },
 "nbformat": 4,
 "nbformat_minor": 2
}
