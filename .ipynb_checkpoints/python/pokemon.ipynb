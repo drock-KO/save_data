{
 "cells": [
  {
   "cell_type": "code",
   "execution_count": 3,
   "metadata": {},
   "outputs": [
    {
     "data": {
      "text/plain": [
       "(212, 9)"
      ]
     },
     "execution_count": 3,
     "metadata": {},
     "output_type": "execute_result"
    }
   ],
   "source": [
    "import numpy as np\n",
    "import pandas as pd\n",
    "import matplotlib.pyplot as plt\n",
    "%matplotlib inline\n",
    "pokemon = pd.read_csv('https://raw.githubusercontent.com/we-b/datasets_for_ai/master/pokemonn.csv')\n",
    "\n",
    "pokemon.head()\n",
    "\n",
    "pokemon.shape\n"
   ]
  },
  {
   "cell_type": "code",
   "execution_count": 8,
   "metadata": {},
   "outputs": [
    {
     "data": {
      "text/plain": [
       "(212, 12)"
      ]
     },
     "execution_count": 8,
     "metadata": {},
     "output_type": "execute_result"
    }
   ],
   "source": [
    "X0 = pokemon['HP']\n",
    "X1 = pokemon['Attack']\n",
    "X2 = pokemon['Defense']\n",
    "X3 = pokemon['Sp. Atk']\n",
    "X4 = pokemon['Sp. Def']\n",
    "X5 = pokemon['Speed']\n",
    "\n",
    "W0 = ((X0 - X0.mean()) / X0.std(ddof=0) * 10 + 50)\n",
    "W1 = ((X1 - X1.mean()) / X1.std(ddof=0) * 10 + 50)\n",
    "W2 = ((X2 - X2.mean()) / X2.std(ddof=0) * 10 + 50)\n",
    "W3 = ((X3 - X3.mean()) / X3.std(ddof=0) * 10 + 50)\n",
    "W4 = ((X4 - X4.mean()) / X4.std(ddof=0) * 10 + 50)\n",
    "W5 = ((X5 - X5.mean()) / X5.std(ddof=0) * 10 + 50)\n",
    "\n",
    "X_new = np.vstack([X0, X1, X2, X3, X4, X5, W0,  W1, W2, W3, W4, W5])\n",
    "X_new\n",
    "\n",
    "X_new.shape\n",
    "\n",
    "X_new = X_new.T\n",
    "X_new\n",
    "\n",
    "X_new.shape\n"
   ]
  },
  {
   "cell_type": "code",
   "execution_count": 10,
   "metadata": {},
   "outputs": [
    {
     "data": {
      "text/plain": [
       "(212, 16)"
      ]
     },
     "execution_count": 10,
     "metadata": {},
     "output_type": "execute_result"
    }
   ],
   "source": [
    "A1 = X1*X3\n",
    "A2 = X3*X4\n",
    "A3 = X3*X5\n",
    "A4 = X1*X5\n",
    "\n",
    "X_new = np.vstack([X0, X1, X2, X3, X4, X5, W0, W1, W2, W3, W4, W5, A1, A2, A3, A4])\n",
    "X_new = X_new.T\n",
    "X_new\n",
    "\n",
    "X_new.shape\n"
   ]
  },
  {
   "cell_type": "code",
   "execution_count": 15,
   "metadata": {},
   "outputs": [
    {
     "data": {
      "text/plain": [
       "(212, 16)"
      ]
     },
     "execution_count": 15,
     "metadata": {},
     "output_type": "execute_result"
    }
   ],
   "source": [
    "def zscore(x):\n",
    "    xmean = x.mean()\n",
    "    xstd  = x.std()\n",
    "\n",
    "    zscore = (x-xmean)/xstd\n",
    "    return zscore\n",
    "\n",
    "X0 = zscore(X0)\n",
    "X1 = zscore(X1)\n",
    "X2 = zscore(X2)\n",
    "X3 = zscore(X3)\n",
    "X4 = zscore(X4)\n",
    "X5 = zscore(X5)\n",
    "W0 = zscore(W0)\n",
    "W1 = zscore(W1)\n",
    "W2 = zscore(W2)\n",
    "W3 = zscore(W3)\n",
    "W4 = zscore(W4)\n",
    "W5 = zscore(W5)\n",
    "A1 = zscore(A1)\n",
    "A2 = zscore(A2)\n",
    "A3 = zscore(A3)\n",
    "A4 = zscore(A4)\n",
    "\n",
    "X_new = np.vstack([X0, X1, X2, X3, X4, X5, W0, W1, W2, W3, W4, W5, A1, A2, A3, A4])\n",
    "X_new = X_new.T\n",
    "X_new\n",
    "\n",
    "X_new.shape\n",
    "\n"
   ]
  },
  {
   "cell_type": "code",
   "execution_count": 28,
   "metadata": {},
   "outputs": [
    {
     "name": "stdout",
     "output_type": "stream",
     "text": [
      "X_train.shape: (148, 16)\n",
      "X_train_selected.shape: (148, 8)\n",
      "[False  True False  True False False False  True False  True False False\n",
      "  True  True  True  True]\n",
      "Score with all features: 0.984\n",
      "Score with only selected features: 0.938\n"
     ]
    },
    {
     "name": "stderr",
     "output_type": "stream",
     "text": [
      "/usr/local/lib64/python3.6/site-packages/sklearn/linear_model/logistic.py:432: FutureWarning: Default solver will be changed to 'lbfgs' in 0.22. Specify a solver to silence this warning.\n",
      "  FutureWarning)\n",
      "/usr/local/lib64/python3.6/site-packages/sklearn/linear_model/logistic.py:432: FutureWarning: Default solver will be changed to 'lbfgs' in 0.22. Specify a solver to silence this warning.\n",
      "  FutureWarning)\n"
     ]
    },
    {
     "data": {
      "text/plain": [
       "array([[45,  1],\n",
       "       [ 3, 15]])"
      ]
     },
     "execution_count": 28,
     "metadata": {},
     "output_type": "execute_result"
    },
    {
     "data": {
      "image/png": "[encoded data removed]",
      "text/plain": [
       "<Figure size 1152x144 with 1 Axes>"
      ]
     },
     "metadata": {
      "needs_background": "light"
     },
     "output_type": "display_data"
    }
   ],
   "source": [
    "from sklearn.feature_selection import SelectPercentile\n",
    "# train_test_splitモジュールのインポート\n",
    "from sklearn.model_selection import train_test_split\n",
    "\n",
    "pokemon.target = pokemon['Legendary']\n",
    "pokemon.target\n",
    "\n",
    "X_train, X_test, y_train, y_test = train_test_split(\n",
    "    X_new,pokemon.target, test_size=.3)\n",
    "\n",
    "select = SelectPercentile(percentile=50)\n",
    "\n",
    "select.fit(X_train, y_train)\n",
    "\n",
    "X_train_selected = select.transform(X_train)\n",
    "\n",
    "print(\"X_train.shape: {}\".format(X_train.shape))\n",
    "print(\"X_train_selected.shape: {}\".format(X_train_selected.shape))\n",
    "\n",
    "mask = select.get_support()\n",
    "print(mask)\n",
    "\n",
    "plt.matshow(mask.reshape(1, -1), cmap='gray_r')\n",
    "plt.xlabel(\"index_of_feature\")\n",
    "plt.yticks(())\n",
    "\n",
    "mask.reshape(1, -1)\n",
    "\n",
    "from sklearn.linear_model import LogisticRegression\n",
    "\n",
    "# transform test data\n",
    "X_test_selected = select.transform(X_test)\n",
    "\n",
    "lr = LogisticRegression()\n",
    "lr.fit(X_train, y_train)\n",
    "print(\"Score with all features: {:.3f}\".format(lr.score(X_test, y_test)))\n",
    "\n",
    "y_p = lr.predict(X_test)\n",
    "\n",
    "from sklearn.metrics import confusion_matrix\n",
    "confusion_matrix(y_test, y_p)\n",
    "\n",
    "lr.fit(X_train_selected, y_train)\n",
    "print(\"Score with only selected features: {:.3f}\".format(\n",
    "lr.score(X_test_selected, y_test)))\n",
    "\n",
    "y_p = lr.predict(X_test_selected)\n",
    "from sklearn.metrics import confusion_matrix\n",
    "confusion_matrix(y_test, y_p)\n",
    "\n"
   ]
  },
  {
   "cell_type": "code",
   "execution_count": null,
   "metadata": {},
   "outputs": [],
   "source": []
  }
 ],
 "metadata": {
  "kernelspec": {
   "display_name": "Python 3",
   "language": "python",
   "name": "python3"
  },
  "language_info": {
   "codemirror_mode": {
    "name": "ipython",
    "version": 3
   },
   "file_extension": ".py",
   "mimetype": "text/x-python",
   "name": "python",
   "nbconvert_exporter": "python",
   "pygments_lexer": "ipython3",
   "version": "3.6.8"
  }
 },
 "nbformat": 4,
 "nbformat_minor": 2
}
