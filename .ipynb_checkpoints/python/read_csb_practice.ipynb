{
 "cells": [
  {
   "cell_type": "code",
   "execution_count": 1,
   "metadata": {},
   "outputs": [],
   "source": [
    "import pandas as pd\n",
    "pokemon = pd.read_csv('https://raw.githubusercontent.com/we-b/datasets_for_ai/master/poke.csv')"
   ]
  },
  {
   "cell_type": "code",
   "execution_count": 4,
   "metadata": {},
   "outputs": [],
   "source": [
    "import numpy as np\n",
    "x = np.array(pokemon)"
   ]
  },
  {
   "cell_type": "code",
   "execution_count": 5,
   "metadata": {},
   "outputs": [
    {
     "data": {
      "text/plain": [
       "(151, 9)"
      ]
     },
     "execution_count": 5,
     "metadata": {},
     "output_type": "execute_result"
    }
   ],
   "source": [
    "x.shape"
   ]
  },
  {
   "cell_type": "code",
   "execution_count": 6,
   "metadata": {},
   "outputs": [
    {
     "data": {
      "text/html": [
       "<div>\n",
       "<style scoped>\n",
       "    .dataframe tbody tr th:only-of-type {\n",
       "        vertical-align: middle;\n",
       "    }\n",
       "\n",
       "    .dataframe tbody tr th {\n",
       "        vertical-align: top;\n",
       "    }\n",
       "\n",
       "    .dataframe thead th {\n",
       "        text-align: right;\n",
       "    }\n",
       "</style>\n",
       "<table border=\"1\" class=\"dataframe\">\n",
       "  <thead>\n",
       "    <tr style=\"text-align: right;\">\n",
       "      <th></th>\n",
       "      <th>Name</th>\n",
       "      <th>Total</th>\n",
       "      <th>HP</th>\n",
       "      <th>Attack</th>\n",
       "      <th>Defense</th>\n",
       "      <th>Sp. Atk</th>\n",
       "      <th>Sp. Def</th>\n",
       "      <th>Speed</th>\n",
       "      <th>Legendary</th>\n",
       "    </tr>\n",
       "  </thead>\n",
       "  <tbody>\n",
       "    <tr>\n",
       "      <td>0</td>\n",
       "      <td>Bulbasaur</td>\n",
       "      <td>318</td>\n",
       "      <td>45</td>\n",
       "      <td>49</td>\n",
       "      <td>49</td>\n",
       "      <td>65</td>\n",
       "      <td>65</td>\n",
       "      <td>45</td>\n",
       "      <td>False</td>\n",
       "    </tr>\n",
       "    <tr>\n",
       "      <td>1</td>\n",
       "      <td>Ivysaur</td>\n",
       "      <td>405</td>\n",
       "      <td>60</td>\n",
       "      <td>62</td>\n",
       "      <td>63</td>\n",
       "      <td>80</td>\n",
       "      <td>80</td>\n",
       "      <td>60</td>\n",
       "      <td>False</td>\n",
       "    </tr>\n",
       "    <tr>\n",
       "      <td>2</td>\n",
       "      <td>Venusaur</td>\n",
       "      <td>525</td>\n",
       "      <td>80</td>\n",
       "      <td>82</td>\n",
       "      <td>83</td>\n",
       "      <td>100</td>\n",
       "      <td>100</td>\n",
       "      <td>80</td>\n",
       "      <td>False</td>\n",
       "    </tr>\n",
       "    <tr>\n",
       "      <td>3</td>\n",
       "      <td>Charmander</td>\n",
       "      <td>309</td>\n",
       "      <td>39</td>\n",
       "      <td>52</td>\n",
       "      <td>43</td>\n",
       "      <td>60</td>\n",
       "      <td>50</td>\n",
       "      <td>65</td>\n",
       "      <td>False</td>\n",
       "    </tr>\n",
       "    <tr>\n",
       "      <td>4</td>\n",
       "      <td>Charmeleon</td>\n",
       "      <td>405</td>\n",
       "      <td>58</td>\n",
       "      <td>64</td>\n",
       "      <td>58</td>\n",
       "      <td>80</td>\n",
       "      <td>65</td>\n",
       "      <td>80</td>\n",
       "      <td>False</td>\n",
       "    </tr>\n",
       "  </tbody>\n",
       "</table>\n",
       "</div>"
      ],
      "text/plain": [
       "         Name  Total  HP  Attack  Defense  Sp. Atk  Sp. Def  Speed  Legendary\n",
       "0   Bulbasaur    318  45      49       49       65       65     45      False\n",
       "1     Ivysaur    405  60      62       63       80       80     60      False\n",
       "2    Venusaur    525  80      82       83      100      100     80      False\n",
       "3  Charmander    309  39      52       43       60       50     65      False\n",
       "4  Charmeleon    405  58      64       58       80       65     80      False"
      ]
     },
     "execution_count": 6,
     "metadata": {},
     "output_type": "execute_result"
    }
   ],
   "source": [
    "pokemon.head()"
   ]
  },
  {
   "cell_type": "code",
   "execution_count": 10,
   "metadata": {},
   "outputs": [
    {
     "name": "stdout",
     "output_type": "stream",
     "text": [
      "9\n"
     ]
    }
   ],
   "source": [
    "print(x.shape[1])"
   ]
  },
  {
   "cell_type": "code",
   "execution_count": 15,
   "metadata": {},
   "outputs": [
    {
     "name": "stdout",
     "output_type": "stream",
     "text": [
      "['Bulbasaur' 318 45 49 49 65 65 45 False]\n"
     ]
    }
   ],
   "source": [
    "print(x[0, :])"
   ]
  },
  {
   "cell_type": "code",
   "execution_count": 17,
   "metadata": {},
   "outputs": [
    {
     "name": "stdout",
     "output_type": "stream",
     "text": [
      "['Bulbasaur' 'Ivysaur' 'Venusaur' 'Charmander' 'Charmeleon' 'Charizard'\n",
      " 'Squirtle' 'Wartortle' 'Blastoise' 'Caterpie' 'Metapod' 'Butterfree'\n",
      " 'Weedle' 'Kakuna' 'Beedrill' 'Pidgey' 'Pidgeotto' 'Pidgeot' 'Rattata'\n",
      " 'Raticate' 'Spearow' 'Fearow' 'Ekans' 'Arbok' 'Pikachu' 'Raichu'\n",
      " 'Sandshrew' 'Sandslash' 'Nidoran' 'Nidorina' 'Nidoqueen' 'Nidoran'\n",
      " 'Nidorino' 'Nidoking' 'Clefairy' 'Clefable' 'Vulpix' 'Ninetales'\n",
      " 'Jigglypuff' 'Wigglytuff' 'Zubat' 'Golbat' 'Oddish' 'Gloom' 'Vileplume'\n",
      " 'Paras' 'Parasect' 'Venonat' 'Venomoth' 'Diglett' 'Dugtrio' 'Meowth'\n",
      " 'Persian' 'Psyduck' 'Golduck' 'Mankey' 'Primeape' 'Growlithe' 'Arcanine'\n",
      " 'Poliwag' 'Poliwhirl' 'Poliwrath' 'Abra' 'Kadabra' 'Alakazam' 'Machop'\n",
      " 'Machoke' 'Machamp' 'Bellsprout' 'Weepinbell' 'Victreebel' 'Tentacool'\n",
      " 'Tentacruel' 'Geodude' 'Graveler' 'Golem' 'Ponyta' 'Rapidash' 'Slowpoke'\n",
      " 'Slowbro' 'Magnemite' 'Magneton' \"Farfetch'd\" 'Doduo' 'Dodrio' 'Seel'\n",
      " 'Dewgong' 'Grimer' 'Muk' 'Shellder' 'Cloyster' 'Gastly' 'Haunter'\n",
      " 'Gengar' 'Onix' 'Drowzee' 'Hypno' 'Krabby' 'Kingler' 'Voltorb'\n",
      " 'Electrode' 'Exeggcute' 'Exeggutor' 'Cubone' 'Marowak' 'Hitmonlee'\n",
      " 'Hitmonchan' 'Lickitung' 'Koffing' 'Weezing' 'Rhyhorn' 'Rhydon' 'Chansey'\n",
      " 'Tangela' 'Kangaskhan' 'Horsea' 'Seadra' 'Goldeen' 'Seaking' 'Staryu'\n",
      " 'Starmie' 'Mr. Mime' 'Scyther' 'Jynx' 'Electabuzz' 'Magmar' 'Pinsir'\n",
      " 'Tauros' 'Magikarp' 'Gyarados' 'Lapras' 'Ditto' 'Eevee' 'Vaporeon'\n",
      " 'Jolteon' 'Flareon' 'Porygon' 'Omanyte' 'Omastar' 'Kabuto' 'Kabutops'\n",
      " 'Aerodactyl' 'Snorlax' 'Articuno' 'Zapdos' 'Moltres' 'Dratini'\n",
      " 'Dragonair' 'Dragonite' 'Mewtwo' 'Mew']\n"
     ]
    }
   ],
   "source": [
    "print(x[:, 0])"
   ]
  },
  {
   "cell_type": "code",
   "execution_count": 18,
   "metadata": {},
   "outputs": [
    {
     "name": "stdout",
     "output_type": "stream",
     "text": [
      "Name HP\n",
      " [['Bulbasaur' 45]\n",
      " ['Ivysaur' 60]\n",
      " ['Venusaur' 80]\n",
      " ['Charmander' 39]\n",
      " ['Charmeleon' 58]\n",
      " ['Charizard' 78]\n",
      " ['Squirtle' 44]\n",
      " ['Wartortle' 59]\n",
      " ['Blastoise' 79]\n",
      " ['Caterpie' 45]\n",
      " ['Metapod' 50]\n",
      " ['Butterfree' 60]\n",
      " ['Weedle' 40]\n",
      " ['Kakuna' 45]\n",
      " ['Beedrill' 65]\n",
      " ['Pidgey' 40]\n",
      " ['Pidgeotto' 63]\n",
      " ['Pidgeot' 83]\n",
      " ['Rattata' 30]\n",
      " ['Raticate' 55]\n",
      " ['Spearow' 40]\n",
      " ['Fearow' 65]\n",
      " ['Ekans' 35]\n",
      " ['Arbok' 60]\n",
      " ['Pikachu' 35]\n",
      " ['Raichu' 60]\n",
      " ['Sandshrew' 50]\n",
      " ['Sandslash' 75]\n",
      " ['Nidoran' 55]\n",
      " ['Nidorina' 70]\n",
      " ['Nidoqueen' 90]\n",
      " ['Nidoran' 46]\n",
      " ['Nidorino' 61]\n",
      " ['Nidoking' 81]\n",
      " ['Clefairy' 70]\n",
      " ['Clefable' 95]\n",
      " ['Vulpix' 38]\n",
      " ['Ninetales' 73]\n",
      " ['Jigglypuff' 115]\n",
      " ['Wigglytuff' 140]\n",
      " ['Zubat' 40]\n",
      " ['Golbat' 75]\n",
      " ['Oddish' 45]\n",
      " ['Gloom' 60]\n",
      " ['Vileplume' 75]\n",
      " ['Paras' 35]\n",
      " ['Parasect' 60]\n",
      " ['Venonat' 60]\n",
      " ['Venomoth' 70]\n",
      " ['Diglett' 10]\n",
      " ['Dugtrio' 35]\n",
      " ['Meowth' 40]\n",
      " ['Persian' 65]\n",
      " ['Psyduck' 50]\n",
      " ['Golduck' 80]\n",
      " ['Mankey' 40]\n",
      " ['Primeape' 65]\n",
      " ['Growlithe' 55]\n",
      " ['Arcanine' 90]\n",
      " ['Poliwag' 40]\n",
      " ['Poliwhirl' 65]\n",
      " ['Poliwrath' 90]\n",
      " ['Abra' 25]\n",
      " ['Kadabra' 40]\n",
      " ['Alakazam' 55]\n",
      " ['Machop' 70]\n",
      " ['Machoke' 80]\n",
      " ['Machamp' 90]\n",
      " ['Bellsprout' 50]\n",
      " ['Weepinbell' 65]\n",
      " ['Victreebel' 80]\n",
      " ['Tentacool' 40]\n",
      " ['Tentacruel' 80]\n",
      " ['Geodude' 40]\n",
      " ['Graveler' 55]\n",
      " ['Golem' 80]\n",
      " ['Ponyta' 50]\n",
      " ['Rapidash' 65]\n",
      " ['Slowpoke' 90]\n",
      " ['Slowbro' 95]\n",
      " ['Magnemite' 25]\n",
      " ['Magneton' 50]\n",
      " [\"Farfetch'd\" 52]\n",
      " ['Doduo' 35]\n",
      " ['Dodrio' 60]\n",
      " ['Seel' 65]\n",
      " ['Dewgong' 90]\n",
      " ['Grimer' 80]\n",
      " ['Muk' 105]\n",
      " ['Shellder' 30]\n",
      " ['Cloyster' 50]\n",
      " ['Gastly' 30]\n",
      " ['Haunter' 45]\n",
      " ['Gengar' 60]\n",
      " ['Onix' 35]\n",
      " ['Drowzee' 60]\n",
      " ['Hypno' 85]\n",
      " ['Krabby' 30]\n",
      " ['Kingler' 55]\n",
      " ['Voltorb' 40]\n",
      " ['Electrode' 60]\n",
      " ['Exeggcute' 60]\n",
      " ['Exeggutor' 95]\n",
      " ['Cubone' 50]\n",
      " ['Marowak' 60]\n",
      " ['Hitmonlee' 50]\n",
      " ['Hitmonchan' 50]\n",
      " ['Lickitung' 90]\n",
      " ['Koffing' 40]\n",
      " ['Weezing' 65]\n",
      " ['Rhyhorn' 80]\n",
      " ['Rhydon' 105]\n",
      " ['Chansey' 250]\n",
      " ['Tangela' 65]\n",
      " ['Kangaskhan' 105]\n",
      " ['Horsea' 30]\n",
      " ['Seadra' 55]\n",
      " ['Goldeen' 45]\n",
      " ['Seaking' 80]\n",
      " ['Staryu' 30]\n",
      " ['Starmie' 60]\n",
      " ['Mr. Mime' 40]\n",
      " ['Scyther' 70]\n",
      " ['Jynx' 65]\n",
      " ['Electabuzz' 65]\n",
      " ['Magmar' 65]\n",
      " ['Pinsir' 65]\n",
      " ['Tauros' 75]\n",
      " ['Magikarp' 20]\n",
      " ['Gyarados' 95]\n",
      " ['Lapras' 130]\n",
      " ['Ditto' 48]\n",
      " ['Eevee' 55]\n",
      " ['Vaporeon' 130]\n",
      " ['Jolteon' 65]\n",
      " ['Flareon' 65]\n",
      " ['Porygon' 65]\n",
      " ['Omanyte' 35]\n",
      " ['Omastar' 70]\n",
      " ['Kabuto' 30]\n",
      " ['Kabutops' 60]\n",
      " ['Aerodactyl' 80]\n",
      " ['Snorlax' 160]\n",
      " ['Articuno' 90]\n",
      " ['Zapdos' 90]\n",
      " ['Moltres' 90]\n",
      " ['Dratini' 41]\n",
      " ['Dragonair' 61]\n",
      " ['Dragonite' 91]\n",
      " ['Mewtwo' 106]\n",
      " ['Mew' 100]]\n"
     ]
    }
   ],
   "source": [
    "print(\"Name HP\\n\", x[:, [0,2]])"
   ]
  },
  {
   "cell_type": "code",
   "execution_count": 22,
   "metadata": {},
   "outputs": [
    {
     "name": "stdout",
     "output_type": "stream",
     "text": [
      "[['Bulbasaur' 318 45 49 49 65 65 45 False]\n",
      " ['Ivysaur' 405 60 62 63 80 80 60 False]\n",
      " ['Venusaur' 525 80 82 83 100 100 80 False]\n",
      " ['Charmander' 309 39 52 43 60 50 65 False]\n",
      " ['Charmeleon' 405 58 64 58 80 65 80 False]\n",
      " ['Charizard' 534 78 84 78 109 85 100 False]\n",
      " ['Squirtle' 314 44 48 65 50 64 43 False]\n",
      " ['Wartortle' 405 59 63 80 65 80 58 False]\n",
      " ['Blastoise' 530 79 83 100 85 105 78 False]\n",
      " ['Caterpie' 195 45 30 35 20 20 45 False]\n",
      " ['Metapod' 205 50 20 55 25 25 30 False]\n",
      " ['Butterfree' 395 60 45 50 90 80 70 False]] \n",
      "\n"
     ]
    }
   ],
   "source": [
    "print(x[:12], '\\n')"
   ]
  },
  {
   "cell_type": "code",
   "execution_count": 27,
   "metadata": {},
   "outputs": [
    {
     "name": "stdout",
     "output_type": "stream",
     "text": [
      "(151, 6)\n"
     ]
    }
   ],
   "source": [
    "x_sliced = x[:, 2:8]\n",
    "print(x_sliced.shape)"
   ]
  },
  {
   "cell_type": "code",
   "execution_count": 28,
   "metadata": {},
   "outputs": [
    {
     "name": "stdout",
     "output_type": "stream",
     "text": [
      "6\n"
     ]
    }
   ],
   "source": [
    "a = np.array([2, 3, 3, 1, 4, 4, 5, 0, 4])\n",
    "print(np.argmax(a))"
   ]
  },
  {
   "cell_type": "code",
   "execution_count": 31,
   "metadata": {},
   "outputs": [
    {
     "name": "stdout",
     "output_type": "stream",
     "text": [
      "[112 148  90 149 143 100]\n",
      "(6,)\n"
     ]
    }
   ],
   "source": [
    "zero = np.argmax(x_sliced, axis=0)\n",
    "print(zero)\n",
    "print(zero.shape)"
   ]
  },
  {
   "cell_type": "code",
   "execution_count": 33,
   "metadata": {},
   "outputs": [
    {
     "name": "stdout",
     "output_type": "stream",
     "text": [
      "[3 3 3 5 3 3 2 2 4 0 2 3 5 2 1 5 5 5 5 5 5 5 1 1 5 5 2 2 0 0 1 1 1 1 0 0 4\n",
      " 4 0 0 5 5 3 3 3 1 1 0 3 5 5 5 5 3 3 1 1 1 1 5 5 1 3 3 3 1 1 1 1 1 1 4 4 2\n",
      " 2 2 5 5 0 2 3 3 1 1 1 4 4 0 0 2 2 3 3 3 2 4 4 1 1 5 5 2 3 2 2 1 4 0 2 2 2\n",
      " 1 0 2 0 2 2 1 1 5 5 4 1 3 5 3 1 5 5 1 0 0 4 0 5 1 3 2 2 2 1 5 0 4 3 3 1 1\n",
      " 1 3 0]\n",
      "(151,)\n"
     ]
    }
   ],
   "source": [
    "one = np.argmax(x_sliced, axis=1)\n",
    "print(one)\n",
    "#↑全てのポケモンの種族値の最大値を出力\n",
    "print(one.shape)"
   ]
  },
  {
   "cell_type": "code",
   "execution_count": 34,
   "metadata": {},
   "outputs": [
    {
     "name": "stdout",
     "output_type": "stream",
     "text": [
      "[['Bulbasaur' 318 45 49 49 65 65 45 False]\n",
      " ['Ivysaur' 405 60 62 63 80 80 60 False]\n",
      " ['Venusaur' 525 80 82 83 100 100 80 False]]\n",
      "[['Charmander' 309 39 52 43 60 50 65 False]\n",
      " ['Charmeleon' 405 58 64 58 80 65 80 False]\n",
      " ['Charizard' 534 78 84 78 109 85 100 False]]\n",
      "(3, 9)\n",
      "(3, 9)\n"
     ]
    }
   ],
   "source": [
    "A = x[0:3]\n",
    "B = x[3:6]\n",
    "print(A)\n",
    "print(B)\n",
    "print(A.shape)\n",
    "print(B.shape)"
   ]
  },
  {
   "cell_type": "code",
   "execution_count": 35,
   "metadata": {},
   "outputs": [
    {
     "name": "stdout",
     "output_type": "stream",
     "text": [
      "[['Bulbasaur' 318 45 49 49 65 65 45 False]\n",
      " ['Ivysaur' 405 60 62 63 80 80 60 False]\n",
      " ['Venusaur' 525 80 82 83 100 100 80 False]\n",
      " ['Charmander' 309 39 52 43 60 50 65 False]\n",
      " ['Charmeleon' 405 58 64 58 80 65 80 False]\n",
      " ['Charizard' 534 78 84 78 109 85 100 False]]\n",
      "(6, 9)\n"
     ]
    }
   ],
   "source": [
    "print(np.concatenate((A, B), axis=0))\n",
    "print(np.concatenate((A, B), axis=0).shape)"
   ]
  },
  {
   "cell_type": "code",
   "execution_count": 36,
   "metadata": {},
   "outputs": [
    {
     "name": "stdout",
     "output_type": "stream",
     "text": [
      "[['Bulbasaur' 318 45 49 49 65 65 45 False 'Charmander' 309 39 52 43 60 50\n",
      "  65 False]\n",
      " ['Ivysaur' 405 60 62 63 80 80 60 False 'Charmeleon' 405 58 64 58 80 65\n",
      "  80 False]\n",
      " ['Venusaur' 525 80 82 83 100 100 80 False 'Charizard' 534 78 84 78 109\n",
      "  85 100 False]]\n",
      "(3, 18)\n"
     ]
    }
   ],
   "source": [
    "print(np.concatenate((A, B), axis=1))\n",
    "print(np.concatenate((A, B), axis=1).shape)"
   ]
  },
  {
   "cell_type": "code",
   "execution_count": 38,
   "metadata": {},
   "outputs": [
    {
     "data": {
      "text/plain": [
       "1359"
      ]
     },
     "execution_count": 38,
     "metadata": {},
     "output_type": "execute_result"
    }
   ],
   "source": [
    "num = x.shape[0] * x.shape[1]\n",
    "num"
   ]
  },
  {
   "cell_type": "code",
   "execution_count": 39,
   "metadata": {},
   "outputs": [
    {
     "name": "stdout",
     "output_type": "stream",
     "text": [
      "['Bulbasaur' 318 45 ... 100 100 False]\n",
      "(1359,)\n"
     ]
    }
   ],
   "source": [
    "reshaped_x = x.reshape(num, )\n",
    "print(reshaped_x)\n",
    "print(reshaped_x.shape)"
   ]
  },
  {
   "cell_type": "code",
   "execution_count": 41,
   "metadata": {},
   "outputs": [
    {
     "data": {
      "text/plain": [
       "(1359,)"
      ]
     },
     "execution_count": 41,
     "metadata": {},
     "output_type": "execute_result"
    }
   ],
   "source": [
    "x.reshape(-1, ).shape"
   ]
  },
  {
   "cell_type": "code",
   "execution_count": 43,
   "metadata": {},
   "outputs": [
    {
     "name": "stdout",
     "output_type": "stream",
     "text": [
      "['Bulbasaur' 318 45 49 49 65 65 45 False 'Ivysaur' 405 60 62 63 80 80 60\n",
      " False 'Venusaur' 525 80 82 83 100 100 80 False 'Charmander' 309 39 52 43\n",
      " 60 50 65 False 'Charmeleon' 405 58 64 58 80 65 80 False 'Charizard' 534\n",
      " 78 84 78 109 85 100 False 'Squirtle' 314 44 48 65 50 64 43 False\n",
      " 'Wartortle' 405 59 63 80 65 80 58 False 'Blastoise' 530 79 83 100 85 105\n",
      " 78 False 'Caterpie' 195 45 30 35 20 20 45 False 'Metapod' 205 50 20 55 25\n",
      " 25 30 False 'Butterfree' 395 60 45 50 90 80 70 False 'Weedle' 195 40 35\n",
      " 30 20 20 50 False 'Kakuna' 205 45 25 50 25 25 35 False 'Beedrill' 395 65\n",
      " 90 40 45 80 75 False 'Pidgey' 251 40 45 40 35 35 56 False 'Pidgeotto' 349\n",
      " 63 60 55 50 50 71 False 'Pidgeot' 479 83 80 75 70 70 101 False 'Rattata'\n",
      " 253 30 56 35 25 35 72 False 'Raticate' 413 55 81 60 50 70 97 False\n",
      " 'Spearow' 262 40 60 30 31 31 70 False 'Fearow' 442 65 90 65 61 61 100\n",
      " False 'Ekans' 288 35 60 44 40 54 55 False 'Arbok' 438 60 85 69 65 79 80\n",
      " False 'Pikachu' 320 35 55 40 50 50 90 False 'Raichu' 485 60 90 55 90 80\n",
      " 110 False 'Sandshrew' 300 50 75 85 20 30 40 False 'Sandslash' 450 75 100\n",
      " 110 45 55 65 False 'Nidoran' 275 55 47 52 40 40 41 False 'Nidorina' 365\n",
      " 70 62 67 55 55 56 False 'Nidoqueen' 505 90 92 87 75 85 76 False 'Nidoran'\n",
      " 273 46 57 40 40 40 50 False 'Nidorino' 365 61 72 57 55 55 65 False\n",
      " 'Nidoking' 505 81 102 77 85 75 85 False 'Clefairy' 323 70 45 48 60 65 35\n",
      " False 'Clefable' 483 95 70 73 95 90 60 False 'Vulpix' 299 38 41 40 50 65\n",
      " 65 False 'Ninetales' 505 73 76 75 81 100 100 False 'Jigglypuff' 270 115\n",
      " 45 20 45 25 20 False 'Wigglytuff' 435 140 70 45 85 50 45 False 'Zubat'\n",
      " 245 40 45 35 30 40 55 False 'Golbat' 455 75 80 70 65 75 90 False 'Oddish'\n",
      " 320 45 50 55 75 65 30 False 'Gloom' 395 60 65 70 85 75 40 False\n",
      " 'Vileplume' 490 75 80 85 110 90 50 False 'Paras' 285 35 70 55 45 55 25\n",
      " False 'Parasect' 405 60 95 80 60 80 30 False 'Venonat' 305 60 55 50 40 55\n",
      " 45 False 'Venomoth' 450 70 65 60 90 75 90 False 'Diglett' 265 10 55 25 35\n",
      " 45 95 False 'Dugtrio' 405 35 80 50 50 70 120 False 'Meowth' 290 40 45 35\n",
      " 40 40 90 False 'Persian' 440 65 70 60 65 65 115 False 'Psyduck' 320 50 52\n",
      " 48 65 50 55 False 'Golduck' 500 80 82 78 95 80 85 False 'Mankey' 305 40\n",
      " 80 35 35 45 70 False 'Primeape' 455 65 105 60 60 70 95 False 'Growlithe'\n",
      " 350 55 70 45 70 50 60 False 'Arcanine' 555 90 110 80 100 80 95 False\n",
      " 'Poliwag' 300 40 50 40 40 40 90 False 'Poliwhirl' 385 65 65 65 50 50 90\n",
      " False 'Poliwrath' 510 90 95 95 70 90 70 False 'Abra' 310 25 20 15 105 55\n",
      " 90 False 'Kadabra' 400 40 35 30 120 70 105 False 'Alakazam' 500 55 50 45\n",
      " 135 95 120 False 'Machop' 305 70 80 50 35 35 35 False 'Machoke' 405 80\n",
      " 100 70 50 60 45 False 'Machamp' 505 90 130 80 65 85 55 False 'Bellsprout'\n",
      " 300 50 75 35 70 30 40 False 'Weepinbell' 390 65 90 50 85 45 55 False\n",
      " 'Victreebel' 490 80 105 65 100 70 70 False 'Tentacool' 335 40 40 35 50\n",
      " 100 70 False 'Tentacruel' 515 80 70 65 80 120 100 False 'Geodude' 300 40\n",
      " 80 100 30 30 20 False 'Graveler' 390 55 95 115 45 45 35 False 'Golem' 495\n",
      " 80 120 130 55 65 45 False 'Ponyta' 410 50 85 55 65 65 90 False 'Rapidash'\n",
      " 500 65 100 70 80 80 105 False 'Slowpoke' 315 90 65 65 40 40 15 False\n",
      " 'Slowbro' 490 95 75 110 100 80 30 False 'Magnemite' 325 25 35 70 95 55 45\n",
      " False 'Magneton' 465 50 60 95 120 70 70 False \"Farfetch'd\" 352 52 65 55\n",
      " 58 62 60 False 'Doduo' 310 35 85 45 35 35 75 False 'Dodrio' 460 60 110 70\n",
      " 60 60 100 False 'Seel' 325 65 45 55 45 70 45 False 'Dewgong' 475 90 70 80\n",
      " 70 95 70 False 'Grimer' 325 80 80 50 40 50 25 False 'Muk' 500 105 105 75\n",
      " 65 100 50 False 'Shellder' 305 30 65 100 45 25 40 False 'Cloyster' 525 50\n",
      " 95 180 85 45 70 False 'Gastly' 310 30 35 30 100 35 80 False 'Haunter' 405\n",
      " 45 50 45 115 55 95 False 'Gengar' 500 60 65 60 130 75 110 False 'Onix'\n",
      " 385 35 45 160 30 45 70 False 'Drowzee' 328 60 48 45 43 90 42 False\n",
      " 'Hypno' 483 85 73 70 73 115 67 False 'Krabby' 325 30 105 90 25 25 50\n",
      " False 'Kingler' 475 55 130 115 50 50 75 False 'Voltorb' 330 40 30 50 55\n",
      " 55 100 False 'Electrode' 480 60 50 70 80 80 140 False 'Exeggcute' 325 60\n",
      " 40 80 60 45 40 False 'Exeggutor' 520 95 95 85 125 65 55 False 'Cubone'\n",
      " 320 50 50 95 40 50 35 False 'Marowak' 425 60 80 110 50 80 45 False\n",
      " 'Hitmonlee' 455 50 120 53 35 110 87 False 'Hitmonchan' 455 50 105 79 35\n",
      " 110 76 False 'Lickitung' 385 90 55 75 60 75 30 False 'Koffing' 340 40 65\n",
      " 95 60 45 35 False 'Weezing' 490 65 90 120 85 70 60 False 'Rhyhorn' 345 80\n",
      " 85 95 30 30 25 False 'Rhydon' 485 105 130 120 45 45 40 False 'Chansey'\n",
      " 450 250 5 5 35 105 50 False 'Tangela' 435 65 55 115 100 40 60 False\n",
      " 'Kangaskhan' 490 105 95 80 40 80 90 False 'Horsea' 295 30 40 70 70 25 60\n",
      " False 'Seadra' 440 55 65 95 95 45 85 False 'Goldeen' 320 45 67 60 35 50\n",
      " 63 False 'Seaking' 450 80 92 65 65 80 68 False 'Staryu' 340 30 45 55 70\n",
      " 55 85 False 'Starmie' 520 60 75 85 100 85 115 False 'Mr. Mime' 460 40 45\n",
      " 65 100 120 90 False 'Scyther' 500 70 110 80 55 80 105 False 'Jynx' 455 65\n",
      " 50 35 115 95 95 False 'Electabuzz' 490 65 83 57 95 85 105 False 'Magmar'\n",
      " 495 65 95 57 100 85 93 False 'Pinsir' 500 65 125 100 55 70 85 False\n",
      " 'Tauros' 490 75 100 95 40 70 110 False 'Magikarp' 200 20 10 55 15 20 80\n",
      " False 'Gyarados' 540 95 125 79 60 100 81 False 'Lapras' 535 130 85 80 85\n",
      " 95 60 False 'Ditto' 288 48 48 48 48 48 48 False 'Eevee' 325 55 55 50 45\n",
      " 65 55 False 'Vaporeon' 525 130 65 60 110 95 65 False 'Jolteon' 525 65 65\n",
      " 60 110 95 130 False 'Flareon' 525 65 130 60 95 110 65 False 'Porygon' 395\n",
      " 65 60 70 85 75 40 False 'Omanyte' 355 35 40 100 90 55 35 False 'Omastar'\n",
      " 495 70 60 125 115 70 55 False 'Kabuto' 355 30 80 90 55 45 55 False\n",
      " 'Kabutops' 495 60 115 105 65 70 80 False 'Aerodactyl' 515 80 105 65 60 75\n",
      " 130 False 'Snorlax' 540 160 110 65 65 110 30 False 'Articuno' 580 90 85\n",
      " 100 95 125 85 True 'Zapdos' 580 90 90 85 125 90 100 True 'Moltres' 580 90\n",
      " 100 90 125 85 90 True 'Dratini' 300 41 64 45 50 50 50 False 'Dragonair'\n",
      " 420 61 84 65 70 70 70 False 'Dragonite' 600 91 134 95 100 100 80 False\n",
      " 'Mewtwo' 680 106 110 90 154 90 130 True 'Mew' 600 100 100 100 100 100 100\n",
      " False]\n"
     ]
    }
   ],
   "source": [
    "np.set_printoptions(threshold=np.inf)\n",
    "print(reshaped_x)"
   ]
  },
  {
   "cell_type": "code",
   "execution_count": null,
   "metadata": {},
   "outputs": [],
   "source": []
  }
 ],
 "metadata": {
  "kernelspec": {
   "display_name": "Python 3",
   "language": "python",
   "name": "python3"
  },
  "language_info": {
   "codemirror_mode": {
    "name": "ipython",
    "version": 3
   },
   "file_extension": ".py",
   "mimetype": "text/x-python",
   "name": "python",
   "nbconvert_exporter": "python",
   "pygments_lexer": "ipython3",
   "version": "3.6.8"
  }
 },
 "nbformat": 4,
 "nbformat_minor": 2
}
