{
 "cells": [
  {
   "cell_type": "code",
   "execution_count": 3,
   "metadata": {},
   "outputs": [
    {
     "name": "stdout",
     "output_type": "stream",
     "text": [
      "[[1.4 0.2]\n",
      " [1.4 0.2]\n",
      " [1.3 0.2]\n",
      " [1.5 0.2]\n",
      " [1.4 0.2]\n",
      " [1.7 0.4]\n",
      " [1.4 0.3]\n",
      " [1.5 0.2]\n",
      " [1.4 0.2]\n",
      " [1.5 0.1]\n",
      " [1.5 0.2]\n",
      " [1.6 0.2]\n",
      " [1.4 0.1]\n",
      " [1.1 0.1]\n",
      " [1.2 0.2]\n",
      " [1.5 0.4]\n",
      " [1.3 0.4]\n",
      " [1.4 0.3]\n",
      " [1.7 0.3]\n",
      " [1.5 0.3]\n",
      " [1.7 0.2]\n",
      " [1.5 0.4]\n",
      " [1.  0.2]\n",
      " [1.7 0.5]\n",
      " [1.9 0.2]\n",
      " [1.6 0.2]\n",
      " [1.6 0.4]\n",
      " [1.5 0.2]\n",
      " [1.4 0.2]\n",
      " [1.6 0.2]\n",
      " [1.6 0.2]\n",
      " [1.5 0.4]\n",
      " [1.5 0.1]\n",
      " [1.4 0.2]\n",
      " [1.5 0.2]\n",
      " [1.2 0.2]\n",
      " [1.3 0.2]\n",
      " [1.4 0.1]\n",
      " [1.3 0.2]\n",
      " [1.5 0.2]\n",
      " [1.3 0.3]\n",
      " [1.3 0.3]\n",
      " [1.3 0.2]\n",
      " [1.6 0.6]\n",
      " [1.9 0.4]\n",
      " [1.4 0.3]\n",
      " [1.6 0.2]\n",
      " [1.4 0.2]\n",
      " [1.5 0.2]\n",
      " [1.4 0.2]\n",
      " [4.7 1.4]\n",
      " [4.5 1.5]\n",
      " [4.9 1.5]\n",
      " [4.  1.3]\n",
      " [4.6 1.5]\n",
      " [4.5 1.3]\n",
      " [4.7 1.6]\n",
      " [3.3 1. ]\n",
      " [4.6 1.3]\n",
      " [3.9 1.4]\n",
      " [3.5 1. ]\n",
      " [4.2 1.5]\n",
      " [4.  1. ]\n",
      " [4.7 1.4]\n",
      " [3.6 1.3]\n",
      " [4.4 1.4]\n",
      " [4.5 1.5]\n",
      " [4.1 1. ]\n",
      " [4.5 1.5]\n",
      " [3.9 1.1]\n",
      " [4.8 1.8]\n",
      " [4.  1.3]\n",
      " [4.9 1.5]\n",
      " [4.7 1.2]\n",
      " [4.3 1.3]\n",
      " [4.4 1.4]\n",
      " [4.8 1.4]\n",
      " [5.  1.7]\n",
      " [4.5 1.5]\n",
      " [3.5 1. ]\n",
      " [3.8 1.1]\n",
      " [3.7 1. ]\n",
      " [3.9 1.2]\n",
      " [5.1 1.6]\n",
      " [4.5 1.5]\n",
      " [4.5 1.6]\n",
      " [4.7 1.5]\n",
      " [4.4 1.3]\n",
      " [4.1 1.3]\n",
      " [4.  1.3]\n",
      " [4.4 1.2]\n",
      " [4.6 1.4]\n",
      " [4.  1.2]\n",
      " [3.3 1. ]\n",
      " [4.2 1.3]\n",
      " [4.2 1.2]\n",
      " [4.2 1.3]\n",
      " [4.3 1.3]\n",
      " [3.  1.1]\n",
      " [4.1 1.3]]\n",
      "[0 0 0 0 0 0 0 0 0 0 0 0 0 0 0 0 0 0 0 0 0 0 0 0 0 0 0 0 0 0 0 0 0 0 0 0 0\n",
      " 0 0 0 0 0 0 0 0 0 0 0 0 0 1 1 1 1 1 1 1 1 1 1 1 1 1 1 1 1 1 1 1 1 1 1 1 1\n",
      " 1 1 1 1 1 1 1 1 1 1 1 1 1 1 1 1 1 1 1 1 1 1 1 1 1 1]\n"
     ]
    }
   ],
   "source": [
    "from sklearn.datasets import load_iris\n",
    "\n",
    "iris = load_iris()\n",
    "\n",
    "import pandas as pd\n",
    "\n",
    "pd.DataFrame(data=iris.data, columns=iris.feature_names).head()\n",
    "\n",
    "x = iris.data[:100, [2, 3]]\n",
    "print(x)\n",
    "\n",
    "y = iris.target[:100]\n",
    "print(y)"
   ]
  },
  {
   "cell_type": "code",
   "execution_count": 4,
   "metadata": {},
   "outputs": [
    {
     "name": "stdout",
     "output_type": "stream",
     "text": [
      "[[3.5 1. ]\n",
      " [3.8 1.1]\n",
      " [4.4 1.2]\n",
      " [4.5 1.5]\n",
      " [4.5 1.5]\n",
      " [1.5 0.2]\n",
      " [1.7 0.3]\n",
      " [4.7 1.6]\n",
      " [4.7 1.4]\n",
      " [4.3 1.3]\n",
      " [1.4 0.2]\n",
      " [4.2 1.5]\n",
      " [1.3 0.2]\n",
      " [1.3 0.3]\n",
      " [1.4 0.2]\n",
      " [1.5 0.4]\n",
      " [1.4 0.3]\n",
      " [1.3 0.3]\n",
      " [1.3 0.2]\n",
      " [1.7 0.4]\n",
      " [4.6 1.4]\n",
      " [3.9 1.4]\n",
      " [1.4 0.2]\n",
      " [1.5 0.2]\n",
      " [1.4 0.2]\n",
      " [4.7 1.4]\n",
      " [1.6 0.2]\n",
      " [1.2 0.2]\n",
      " [1.7 0.5]\n",
      " [4.9 1.5]\n",
      " [1.5 0.2]\n",
      " [1.5 0.4]\n",
      " [4.5 1.5]\n",
      " [3.3 1. ]\n",
      " [3.5 1. ]\n",
      " [4.5 1.6]\n",
      " [1.5 0.1]\n",
      " [4.5 1.5]\n",
      " [1.2 0.2]\n",
      " [4.  1.3]\n",
      " [1.5 0.3]\n",
      " [1.6 0.2]\n",
      " [1.4 0.2]\n",
      " [4.3 1.3]\n",
      " [3.  1.1]\n",
      " [3.9 1.1]\n",
      " [1.7 0.2]\n",
      " [4.2 1.3]\n",
      " [4.9 1.5]\n",
      " [5.  1.7]\n",
      " [1.6 0.2]\n",
      " [1.4 0.1]\n",
      " [3.7 1. ]\n",
      " [1.6 0.2]\n",
      " [1.5 0.2]\n",
      " [4.4 1.4]\n",
      " [4.6 1.3]\n",
      " [1.4 0.1]\n",
      " [4.1 1.3]\n",
      " [4.8 1.8]\n",
      " [4.4 1.3]\n",
      " [1.3 0.2]\n",
      " [1.5 0.4]\n",
      " [5.1 1.6]\n",
      " [1.5 0.1]\n",
      " [4.2 1.3]\n",
      " [4.1 1. ]\n",
      " [3.6 1.3]\n",
      " [1.4 0.2]\n",
      " [1.9 0.4]]\n",
      "[[1.6 0.4]\n",
      " [4.7 1.5]\n",
      " [1.3 0.2]\n",
      " [4.5 1.3]\n",
      " [4.4 1.4]\n",
      " [3.3 1. ]\n",
      " [1.3 0.4]\n",
      " [4.7 1.2]\n",
      " [4.6 1.5]\n",
      " [4.2 1.2]\n",
      " [4.  1.3]\n",
      " [4.  1.2]\n",
      " [4.5 1.5]\n",
      " [1.1 0.1]\n",
      " [1.5 0.2]\n",
      " [1.6 0.2]\n",
      " [1.  0.2]\n",
      " [1.9 0.2]\n",
      " [1.4 0.2]\n",
      " [1.4 0.2]\n",
      " [1.6 0.6]\n",
      " [4.  1. ]\n",
      " [1.5 0.2]\n",
      " [4.  1.3]\n",
      " [1.4 0.3]\n",
      " [1.5 0.2]\n",
      " [1.4 0.3]\n",
      " [4.1 1.3]\n",
      " [3.9 1.2]\n",
      " [4.8 1.4]]\n"
     ]
    }
   ],
   "source": [
    "from sklearn.model_selection import train_test_split\n",
    "\n",
    "x_train, x_test, y_train, y_test = train_test_split(x, y, test_size=0.3, random_state=0)\n",
    "\n",
    "print(x_train)\n",
    "print(x_test)"
   ]
  },
  {
   "cell_type": "code",
   "execution_count": 6,
   "metadata": {},
   "outputs": [
    {
     "name": "stdout",
     "output_type": "stream",
     "text": [
      "[1 1 1 1 1 0 0 1 1 1 0 1 0 0 0 0 0 0 0 0 1 1 0 0 0 1 0 0 0 1 0 0 1 1 1 1 0\n",
      " 1 0 1 0 0 0 1 1 1 0 1 1 1 0 0 1 0 0 1 1 0 1 1 1 0 0 1 0 1 1 1 0 0]\n",
      "[0 1 0 1 1 1 0 1 1 1 1 1 1 0 0 0 0 0 0 0 0 1 0 1 0 0 0 1 1 1]\n",
      "[0 0 0 0 0 0 0 0 0 0 0 0 0 0 0 0 0 0 0 0 0 0 0 0 0 0 0 0 0 0 0 0 0 0 0 0 0\n",
      " 0 0 0 0 0 0 0 0 0 0 0 0 0 1 1 1 1 1 1 1 1 1 1 1 1 1 1 1 1 1 1 1 1 1 1 1 1\n",
      " 1 1 1 1 1 1 1 1 1 1 1 1 1 1 1 1 1 1 1 1 1 1 1 1 1 1]\n"
     ]
    }
   ],
   "source": [
    "print(y_train)\n",
    "print( y_test)"
   ]
  },
  {
   "cell_type": "code",
   "execution_count": 13,
   "metadata": {},
   "outputs": [
    {
     "name": "stderr",
     "output_type": "stream",
     "text": [
      "/usr/local/lib64/python3.6/site-packages/sklearn/linear_model/logistic.py:432: FutureWarning: Default solver will be changed to 'lbfgs' in 0.22. Specify a solver to silence this warning.\n",
      "  FutureWarning)\n"
     ]
    }
   ],
   "source": [
    "from sklearn.linear_model import LogisticRegression\n",
    "lr = LogisticRegression()\n",
    "lr.fit(x_train, y_train)\n",
    "y_p = lr.predict(x_test)"
   ]
  },
  {
   "cell_type": "code",
   "execution_count": 18,
   "metadata": {},
   "outputs": [
    {
     "name": "stdout",
     "output_type": "stream",
     "text": [
      "誤分類の個数： 0\n",
      "[[0.9763015  1.52717679]]\n",
      "[-3.41222972]\n"
     ]
    }
   ],
   "source": [
    "from sklearn.metrics import confusion_matrix\n",
    "confusion_matrix(y_test, y_p)\n",
    "print('誤分類の個数：',  (y_p !=  y_test).sum())\n",
    "print(lr.coef_)\n",
    "print(lr.intercept_)"
   ]
  },
  {
   "cell_type": "code",
   "execution_count": 23,
   "metadata": {},
   "outputs": [
    {
     "name": "stdout",
     "output_type": "stream",
     "text": [
      "正答率: 1.0\n",
      "[0 0 0 0 0 0 0 0 0 0 0 0 0 0 0 0 0 0 0 0 0 0 0 0 0 0 0 0 0 0 0 0 0 0 0 0 0\n",
      " 0 0 0 0 0 0 0 0 0 0 0 0 0 1 1 1 1 1 1 1 1 1 1 1 1 1 1 1 1 1 1 1 1 1 1 1 1\n",
      " 1 1 1 1 1 1 1 1 1 1 1 1 1 1 1 1 1 1 1 1 1 1 1 1 1 1]\n"
     ]
    },
    {
     "data": {
      "text/plain": [
       "array([0, 1])"
      ]
     },
     "execution_count": 23,
     "metadata": {},
     "output_type": "execute_result"
    }
   ],
   "source": [
    "from sklearn.metrics import accuracy_score\n",
    "print('正答率:', accuracy_score(y_test, y_p))\n",
    "\n",
    "import numpy as np\n",
    "from matplotlib.colors import ListedColormap\n",
    "import matplotlib.pyplot as plt\n",
    "%matplotlib inline\n",
    "\n",
    "markers = ('o', '^')\n",
    "colors = ('red', 'lightgreen')\n",
    "cmap = ListedColormap(colors)\n",
    "\n",
    "print(y)\n",
    "np.unique(y)"
   ]
  },
  {
   "cell_type": "code",
   "execution_count": 35,
   "metadata": {},
   "outputs": [
    {
     "name": "stderr",
     "output_type": "stream",
     "text": [
      "'c' argument looks like a single numeric RGB or RGBA sequence, which should be avoided as value-mapping will have precedence in case its length matches with 'x' & 'y'.  Please use a 2-D array with a single row if you really want to specify the same RGB or RGBA value for all points.\n",
      "'c' argument looks like a single numeric RGB or RGBA sequence, which should be avoided as value-mapping will have precedence in case its length matches with 'x' & 'y'.  Please use a 2-D array with a single row if you really want to specify the same RGB or RGBA value for all points.\n"
     ]
    },
    {
     "name": "stdout",
     "output_type": "stream",
     "text": [
      "0.0\n",
      "6.1\n",
      "-0.9\n",
      "2.8\n"
     ]
    },
    {
     "data": {
      "image/png": "[encoded data removed]",
      "text/plain": [
       "<Figure size 432x288 with 1 Axes>"
      ]
     },
     "metadata": {
      "needs_background": "light"
     },
     "output_type": "display_data"
    }
   ],
   "source": [
    "for i, n in enumerate(np.unique(y)):\n",
    "    plt.scatter(x=x_train[y_train == n, 0],\n",
    "                        y=x_train[y_train == n, 1],\n",
    "                        c=cmap(i),\n",
    "                        marker=markers[i],\n",
    "                        s=70,\n",
    "                        edgecolors='',\n",
    "                        label=n)\n",
    "\n",
    "# テストデータは色・マーカーを変えて、プロット\n",
    "plt.scatter(x_test[:, 0], # X_testの0列目(花びらの長さ)の全ての行を取得\n",
    "                    x_test[:, 1], # X_testの1列目(花びらの横幅)の全ての行を取得\n",
    "                    c='k',\n",
    "                    marker='v',\n",
    "                    label='test data')\n",
    "\n",
    "plt.xlabel('Petal Length')\n",
    "plt.ylabel('Petal Width')\n",
    "\n",
    "# 凡例の表示\n",
    "plt.legend(loc='lower right')\n",
    "\n",
    "x_min, x_max = x[:, 0].min( ) - 1, x[:, 0].max() + 1\n",
    "y_min, y_max = x[:, 1].min( ) - 1, x[:, 1].max() + 1\n",
    "\n",
    "print(x_min)\n",
    "print(x_max)\n",
    "print(y_min)\n",
    "print(y_max)"
   ]
  },
  {
   "cell_type": "code",
   "execution_count": 39,
   "metadata": {},
   "outputs": [
    {
     "name": "stdout",
     "output_type": "stream",
     "text": [
      "(185, 305)\n",
      "[[0.   0.02 0.04 ... 6.04 6.06 6.08]\n",
      " [0.   0.02 0.04 ... 6.04 6.06 6.08]\n",
      " [0.   0.02 0.04 ... 6.04 6.06 6.08]\n",
      " ...\n",
      " [0.   0.02 0.04 ... 6.04 6.06 6.08]\n",
      " [0.   0.02 0.04 ... 6.04 6.06 6.08]\n",
      " [0.   0.02 0.04 ... 6.04 6.06 6.08]]\n",
      "(185, 305)\n",
      "[[-0.9  -0.9  -0.9  ... -0.9  -0.9  -0.9 ]\n",
      " [-0.88 -0.88 -0.88 ... -0.88 -0.88 -0.88]\n",
      " [-0.86 -0.86 -0.86 ... -0.86 -0.86 -0.86]\n",
      " ...\n",
      " [ 2.74  2.74  2.74 ...  2.74  2.74  2.74]\n",
      " [ 2.76  2.76  2.76 ...  2.76  2.76  2.76]\n",
      " [ 2.78  2.78  2.78 ...  2.78  2.78  2.78]]\n"
     ]
    }
   ],
   "source": [
    "x_axis, y_axis = np.meshgrid(np.arange(x_min, x_max, 0.02),\n",
    "                                                   np.arange(y_min, y_max, 0.02))\n",
    "print(x_axis.shape)\n",
    "print(x_axis)\n",
    "print(y_axis.shape)\n",
    "print(y_axis)"
   ]
  },
  {
   "cell_type": "code",
   "execution_count": 2,
   "metadata": {},
   "outputs": [
    {
     "ename": "NameError",
     "evalue": "name 'np' is not defined",
     "output_type": "error",
     "traceback": [
      "\u001b[0;31m---------------------------------------------------------------------------\u001b[0m",
      "\u001b[0;31mNameError\u001b[0m                                 Traceback (most recent call last)",
      "\u001b[0;32m<ipython-input-2-0aafd701ecf4>\u001b[0m in \u001b[0;36m<module>\u001b[0;34m\u001b[0m\n\u001b[0;32m----> 1\u001b[0;31m \u001b[0mgrid_points\u001b[0m \u001b[0;34m=\u001b[0m \u001b[0mnp\u001b[0m\u001b[0;34m.\u001b[0m\u001b[0mconcatenate\u001b[0m\u001b[0;34m(\u001b[0m\u001b[0;34m(\u001b[0m\u001b[0mx_axis\u001b[0m\u001b[0;34m.\u001b[0m\u001b[0mreshape\u001b[0m\u001b[0;34m(\u001b[0m\u001b[0;34m-\u001b[0m\u001b[0;36m1\u001b[0m\u001b[0;34m,\u001b[0m \u001b[0;36m1\u001b[0m\u001b[0;34m)\u001b[0m\u001b[0;34m,\u001b[0m \u001b[0my_axis\u001b[0m\u001b[0;34m.\u001b[0m\u001b[0mreshape\u001b[0m\u001b[0;34m(\u001b[0m\u001b[0;34m-\u001b[0m\u001b[0;36m1\u001b[0m\u001b[0;34m,\u001b[0m\u001b[0;36m1\u001b[0m\u001b[0;34m)\u001b[0m\u001b[0;34m)\u001b[0m\u001b[0;34m,\u001b[0m \u001b[0maxis\u001b[0m\u001b[0;34m=\u001b[0m\u001b[0;36m1\u001b[0m\u001b[0;34m)\u001b[0m\u001b[0;34m\u001b[0m\u001b[0;34m\u001b[0m\u001b[0m\n\u001b[0m\u001b[1;32m      2\u001b[0m \u001b[0mprint\u001b[0m\u001b[0;34m(\u001b[0m\u001b[0mgrid_points\u001b[0m\u001b[0;34m)\u001b[0m\u001b[0;34m\u001b[0m\u001b[0;34m\u001b[0m\u001b[0m\n\u001b[1;32m      3\u001b[0m \u001b[0;34m\u001b[0m\u001b[0m\n\u001b[1;32m      4\u001b[0m \u001b[0mpred_label\u001b[0m \u001b[0;34m=\u001b[0m \u001b[0mlr\u001b[0m\u001b[0;34m.\u001b[0m\u001b[0mpredict\u001b[0m\u001b[0;34m(\u001b[0m\u001b[0mgrid_points\u001b[0m\u001b[0;34m)\u001b[0m\u001b[0;34m\u001b[0m\u001b[0;34m\u001b[0m\u001b[0m\n\u001b[1;32m      5\u001b[0m \u001b[0mprint\u001b[0m\u001b[0;34m(\u001b[0m\u001b[0mpred_label\u001b[0m\u001b[0;34m)\u001b[0m\u001b[0;34m\u001b[0m\u001b[0;34m\u001b[0m\u001b[0m\n",
      "\u001b[0;31mNameError\u001b[0m: name 'np' is not defined"
     ]
    }
   ],
   "source": [
    "grid_points = np.concatenate((x_axis.reshape(-1, 1), y_axis.reshape(-1,1)), axis=1)\n",
    "print(grid_points)\n",
    "\n",
    "pred_label = lr.predict(grid_points)\n",
    "print(pred_label)\n",
    "print(pred_label.shape)\n",
    "\n",
    "pred_label = pred_label.reshape(x_axis.shape)\n",
    "print(x_axis.shape)\n",
    "print(y_axis.shape)\n",
    "\n",
    "plt.xlabel('Petal length')\n",
    "plt.ylabel('Petal width')\n",
    "# 軸の範囲を指定\n",
    "plt.xlim(x_axis.min(), x_axis.max())\n",
    "plt.ylim(y_axis.min(), y_axis.max())\n",
    "# contourf関数を使って、領域を塗りつぶす\n",
    "plt.contourf(x_axis, y_axis, pred_label, alpha=0.3, cmap=cmap)\n",
    "\n",
    "for i, n in enumerate(np.unique(y)):\n",
    "    plt.scatter(x=x_train[y_train == n, 0],\n",
    "                y=x_train[y_train == n, 1],\n",
    "                c=cmap(i),\n",
    "                marker=markers[i],\n",
    "                s=70,\n",
    "                edgecolors='',\n",
    "                label=n)\n",
    "\n",
    "# テストデータは色・マーカーを変えて、プロット\n",
    "plt.scatter(x_test[:, 0], # X_testの0列目(花びらの長さ)の全ての行を取得\n",
    "                    x_test[:, 1], # X_testの1列目(花びらの横幅)の全ての行を取得\n",
    "                    c='k',\n",
    "                    marker='v',\n",
    "                    label='test data')\n",
    "\n",
    "# 軸の範囲を指定\n",
    "plt.xlim(x_axis.min(), x_axis.max())\n",
    "plt.ylim(y_axis.min(), y_axis.max())\n",
    "plt.contourf(x_axis, y_axis, pred_label, alpha=0.3, cmap=cmap)\n",
    "# 凡例を表示\n",
    "plt.legend(loc='lower right')\n",
    "\n",
    "# x軸とy軸のタイトルを表示\n",
    "plt.xlabel('Petal length')\n",
    "plt.ylabel('Petal width')"
   ]
  },
  {
   "cell_type": "code",
   "execution_count": null,
   "metadata": {},
   "outputs": [],
   "source": []
  },
  {
   "cell_type": "code",
   "execution_count": null,
   "metadata": {},
   "outputs": [],
   "source": []
  }
 ],
 "metadata": {
  "kernelspec": {
   "display_name": "Python 3",
   "language": "python",
   "name": "python3"
  },
  "language_info": {
   "codemirror_mode": {
    "name": "ipython",
    "version": 3
   },
   "file_extension": ".py",
   "mimetype": "text/x-python",
   "name": "python",
   "nbconvert_exporter": "python",
   "pygments_lexer": "ipython3",
   "version": "3.6.8"
  }
 },
 "nbformat": 4,
 "nbformat_minor": 2
}
