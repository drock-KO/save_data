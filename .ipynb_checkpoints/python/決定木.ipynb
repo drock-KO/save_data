{
 "cells": [
  {
   "cell_type": "code",
   "execution_count": 12,
   "metadata": {},
   "outputs": [
    {
     "name": "stdout",
     "output_type": "stream",
     "text": [
      "(220, 395)\n",
      "(220, 395)\n",
      "86900\n",
      "(86900, 2)\n",
      "(220, 395)\n"
     ]
    }
   ],
   "source": [
    "import numpy as np\n",
    "from sklearn import datasets\n",
    "from sklearn.model_selection import train_test_split\n",
    "\n",
    "iris = datasets.load_iris()\n",
    "# Petal Length(花びらの長さ), Petal Width(花びらの幅)の取得\n",
    "X = iris.data[:, [2, 3]]\n",
    "# クラスラベルの取得\n",
    "y = iris.target\n",
    "# データセットの分割\n",
    "X_train, X_test, y_train, y_test = train_test_split(X, y, test_size=0.3, random_state=0)\n",
    "\n",
    "X_min, X_max = X[:, 0].min() - 1, X[:, 0].max() + 1\n",
    "y_min, y_max = X[:, 1].min() - 1, X[:, 1].max() + 1\n",
    "\n",
    "# meshgrid関数で、2つの配列を作る\n",
    "x_axis, y_axis = np.meshgrid(np.arange(X_min, X_max, 0.02), \n",
    "                             np.arange(y_min, y_max, 0.02))\n",
    "\n",
    "print(x_axis.shape)\n",
    "# →(220, 395)\n",
    "print(y_axis.shape)\n",
    "# →(220, 395)\n",
    "\n",
    "# x_axisとy_axisの要素を1行にまとめるために組み合わせの数を計算\n",
    "data_num = x_axis.shape[0] * x_axis.shape[1]\n",
    "print(data_num)\n",
    "# →86900\n",
    "\n",
    "# 2つの1次元配列を組み合わせて2次元配列を作成\n",
    "grid_points = np.concatenate((x_axis.reshape(data_num, 1), y_axis.reshape(data_num, 1)), axis=1)\n",
    "print(grid_points.shape)\n",
    "# →(86900, 2)\n",
    "\n",
    "from sklearn.tree import DecisionTreeClassifier\n",
    "\n",
    "tree = DecisionTreeClassifier(criterion='entropy',max_depth=3, random_state=0)\n",
    "\n",
    "tree.fit(X_train, y_train)\n",
    "\n",
    "pred_label = tree.predict(grid_points)\n",
    "\n",
    "# reshapeメソッドで、行列数を変換する\n",
    "pred_label = pred_label.reshape(x_axis.shape)\n",
    "\n",
    "print(pred_label.shape)\n",
    "# →(220, 395)\n"
   ]
  },
  {
   "cell_type": "code",
   "execution_count": 13,
   "metadata": {},
   "outputs": [
    {
     "name": "stderr",
     "output_type": "stream",
     "text": [
      "'c' argument looks like a single numeric RGB or RGBA sequence, which should be avoided as value-mapping will have precedence in case its length matches with 'x' & 'y'.  Please use a 2-D array with a single row if you really want to specify the same RGB or RGBA value for all points.\n",
      "'c' argument looks like a single numeric RGB or RGBA sequence, which should be avoided as value-mapping will have precedence in case its length matches with 'x' & 'y'.  Please use a 2-D array with a single row if you really want to specify the same RGB or RGBA value for all points.\n",
      "'c' argument looks like a single numeric RGB or RGBA sequence, which should be avoided as value-mapping will have precedence in case its length matches with 'x' & 'y'.  Please use a 2-D array with a single row if you really want to specify the same RGB or RGBA value for all points.\n"
     ]
    },
    {
     "data": {
      "text/plain": [
       "Text(0, 0.5, 'Petal Width')"
      ]
     },
     "execution_count": 13,
     "metadata": {},
     "output_type": "execute_result"
    },
    {
     "data": {
      "image/png": "[encoded data removed]",
      "text/plain": [
       "<Figure size 432x288 with 1 Axes>"
      ]
     },
     "metadata": {
      "needs_background": "light"
     },
     "output_type": "display_data"
    }
   ],
   "source": [
    "from matplotlib.colors import ListedColormap\n",
    "import matplotlib.pyplot as plt\n",
    "%matplotlib inline\n",
    "\n",
    "# マーカーの準備\n",
    "markers = ('o', '^', 'x')\n",
    "\n",
    "# 色を用意\n",
    "colors = ('red', 'lightgreen', 'cyan')\n",
    "# 指定した数の色を使ったmapを作図\n",
    "cmap = ListedColormap(colors)\n",
    "\n",
    "for i, n in enumerate(np.unique(y)):\n",
    "    plt.scatter(x=X_train[y_train == n, 0],\n",
    "                y=X_train[y_train == n, 1],\n",
    "                c=cmap(i),\n",
    "                marker=markers[i],\n",
    "                s = 70,\n",
    "                edgecolors='',\n",
    "                label=n)\n",
    "\n",
    "plt.scatter(X_test[:, 0],\n",
    "            X_test[:, 1],\n",
    "            c='k',\n",
    "            marker='v',\n",
    "            label='test data')\n",
    "\n",
    "plt.xlim(x_axis.min(), x_axis.max())\n",
    "plt.ylim(y_axis.min(), y_axis.max())\n",
    "# contourf関数を使って、領域を塗りつぶす\n",
    "plt.contourf(x_axis, y_axis, pred_label, alpha=0.3, cmap=cmap)\n",
    "\n",
    "# 凡例\n",
    "plt.legend(loc='lower right')\n",
    "\n",
    "# 軸ラベル\n",
    "plt.xlabel('Petal Length')\n",
    "plt.ylabel('Petal Width')"
   ]
  },
  {
   "cell_type": "code",
   "execution_count": 14,
   "metadata": {},
   "outputs": [],
   "source": [
    "from sklearn.tree import export_graphviz\n",
    "export_graphviz(tree, out_file=\"tree.dot\",\n",
    "             feature_names=[\"petal length\", \"petal width\"])\n",
    "!dot -T png tree.dot -o tree.png"
   ]
  },
  {
   "cell_type": "code",
   "execution_count": 18,
   "metadata": {},
   "outputs": [],
   "source": [
    "from sklearn.tree import DecisionTreeClassifier\n",
    "# 先ほど読み込んだDecisionTreeClassifierと同じCellに書き足す\n",
    "from sklearn.ensemble import RandomForestClassifier\n",
    "\n",
    "tree = DecisionTreeClassifier(criterion='entropy',max_depth=3, random_state=0)\n",
    "# 先ほどインスタンスを生成したCellに書き足す\n",
    "forest = RandomForestClassifier(n_estimators=10, random_state=1)\n",
    "\n",
    "tree.fit(X_train, y_train)\n",
    "# 先ほどモデルへ適合したCellに書き足す\n",
    "forest.fit(X_train, y_train)\n",
    "\n",
    "# pred_label = tree.predict(grid_points)\n",
    "# 決定木の予測をコメントアウトし、その下に書き足す。\n",
    "\n",
    "pred_label = forest.predict(grid_points)"
   ]
  },
  {
   "cell_type": "code",
   "execution_count": null,
   "metadata": {},
   "outputs": [],
   "source": []
  }
 ],
 "metadata": {
  "kernelspec": {
   "display_name": "Python 3",
   "language": "python",
   "name": "python3"
  },
  "language_info": {
   "codemirror_mode": {
    "name": "ipython",
    "version": 3
   },
   "file_extension": ".py",
   "mimetype": "text/x-python",
   "name": "python",
   "nbconvert_exporter": "python",
   "pygments_lexer": "ipython3",
   "version": "3.6.8"
  }
 },
 "nbformat": 4,
 "nbformat_minor": 2
}
