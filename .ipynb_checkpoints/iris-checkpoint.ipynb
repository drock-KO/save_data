{
 "cells": [
  {
   "cell_type": "code",
   "execution_count": null,
   "metadata": {},
   "outputs": [],
   "source": [
    "# データセットの読み込み\n",
    "from sklearn.datasets import load_iris\n",
    "# 変数に格納しなんども呼び出せるようにする\n",
    "iris = load_iris()\n",
    "\n",
    "# pandasの読み込み\n",
    "import pandas as pd\n",
    "\n",
    "# DataFrameを使って、データを構造化データに変換。\n",
    "pd.DataFrame(data=iris.data, columns=iris.feature_names).head()\n",
    "\n",
    "# 花びらの長さと幅を取得する\n",
    "X = iris.data[:100, [2, 3]]\n",
    "print(X)\n",
    "\n",
    "# 花びらの情報に加えて、それぞれの品種名(目的変数)を100件取得して変数に代入する\n",
    "y = iris.target[:100]\n",
    "print(y)\n",
    "\n",
    "# train_test_splitモジュールのインポート\n",
    "from sklearn.model_selection import train_test_split\n",
    "# train_test_splitを使って、データセットをトレーニングデータとテストデータに分割する。\n",
    "X_train, X_test, y_train, y_test = train_test_split(X, y, test_size=0.3, random_state=0)\n",
    "\n",
    "print(X_train.shape)\n",
    "print(X_test.shape)\n",
    "print(y_train.shape)\n",
    "print(y_test.shape)"
   ]
  },
  {
   "cell_type": "code",
   "execution_count": null,
   "metadata": {},
   "outputs": [],
   "source": []
  },
  {
   "cell_type": "code",
   "execution_count": null,
   "metadata": {},
   "outputs": [],
   "source": [
    "\n"
   ]
  }
 ],
 "metadata": {
  "kernelspec": {
   "display_name": "Python 3",
   "language": "python",
   "name": "python3"
  },
  "language_info": {
   "codemirror_mode": {
    "name": "ipython",
    "version": 3
   },
   "file_extension": ".py",
   "mimetype": "text/x-python",
   "name": "python",
   "nbconvert_exporter": "python",
   "pygments_lexer": "ipython3",
   "version": "3.6.8"
  }
 },
 "nbformat": 4,
 "nbformat_minor": 2
}
