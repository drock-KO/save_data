{
 "cells": [
  {
   "cell_type": "code",
   "execution_count": 6,
   "metadata": {},
   "outputs": [
    {
     "name": "stdout",
     "output_type": "stream",
     "text": [
      "[[1.4 0.2]\n",
      " [1.4 0.2]\n",
      " [1.3 0.2]\n",
      " [1.5 0.2]\n",
      " [1.4 0.2]\n",
      " [1.7 0.4]\n",
      " [1.4 0.3]\n",
      " [1.5 0.2]\n",
      " [1.4 0.2]\n",
      " [1.5 0.1]\n",
      " [1.5 0.2]\n",
      " [1.6 0.2]\n",
      " [1.4 0.1]\n",
      " [1.1 0.1]\n",
      " [1.2 0.2]\n",
      " [1.5 0.4]\n",
      " [1.3 0.4]\n",
      " [1.4 0.3]\n",
      " [1.7 0.3]\n",
      " [1.5 0.3]\n",
      " [1.7 0.2]\n",
      " [1.5 0.4]\n",
      " [1.  0.2]\n",
      " [1.7 0.5]\n",
      " [1.9 0.2]\n",
      " [1.6 0.2]\n",
      " [1.6 0.4]\n",
      " [1.5 0.2]\n",
      " [1.4 0.2]\n",
      " [1.6 0.2]\n",
      " [1.6 0.2]\n",
      " [1.5 0.4]\n",
      " [1.5 0.1]\n",
      " [1.4 0.2]\n",
      " [1.5 0.2]\n",
      " [1.2 0.2]\n",
      " [1.3 0.2]\n",
      " [1.4 0.1]\n",
      " [1.3 0.2]\n",
      " [1.5 0.2]\n",
      " [1.3 0.3]\n",
      " [1.3 0.3]\n",
      " [1.3 0.2]\n",
      " [1.6 0.6]\n",
      " [1.9 0.4]\n",
      " [1.4 0.3]\n",
      " [1.6 0.2]\n",
      " [1.4 0.2]\n",
      " [1.5 0.2]\n",
      " [1.4 0.2]\n",
      " [4.7 1.4]\n",
      " [4.5 1.5]\n",
      " [4.9 1.5]\n",
      " [4.  1.3]\n",
      " [4.6 1.5]\n",
      " [4.5 1.3]\n",
      " [4.7 1.6]\n",
      " [3.3 1. ]\n",
      " [4.6 1.3]\n",
      " [3.9 1.4]\n",
      " [3.5 1. ]\n",
      " [4.2 1.5]\n",
      " [4.  1. ]\n",
      " [4.7 1.4]\n",
      " [3.6 1.3]\n",
      " [4.4 1.4]\n",
      " [4.5 1.5]\n",
      " [4.1 1. ]\n",
      " [4.5 1.5]\n",
      " [3.9 1.1]\n",
      " [4.8 1.8]\n",
      " [4.  1.3]\n",
      " [4.9 1.5]\n",
      " [4.7 1.2]\n",
      " [4.3 1.3]\n",
      " [4.4 1.4]\n",
      " [4.8 1.4]\n",
      " [5.  1.7]\n",
      " [4.5 1.5]\n",
      " [3.5 1. ]\n",
      " [3.8 1.1]\n",
      " [3.7 1. ]\n",
      " [3.9 1.2]\n",
      " [5.1 1.6]\n",
      " [4.5 1.5]\n",
      " [4.5 1.6]\n",
      " [4.7 1.5]\n",
      " [4.4 1.3]\n",
      " [4.1 1.3]\n",
      " [4.  1.3]\n",
      " [4.4 1.2]\n",
      " [4.6 1.4]\n",
      " [4.  1.2]\n",
      " [3.3 1. ]\n",
      " [4.2 1.3]\n",
      " [4.2 1.2]\n",
      " [4.2 1.3]\n",
      " [4.3 1.3]\n",
      " [3.  1.1]\n",
      " [4.1 1.3]]\n",
      "[0 0 0 0 0 0 0 0 0 0 0 0 0 0 0 0 0 0 0 0 0 0 0 0 0 0 0 0 0 0 0 0 0 0 0 0 0\n",
      " 0 0 0 0 0 0 0 0 0 0 0 0 0 1 1 1 1 1 1 1 1 1 1 1 1 1 1 1 1 1 1 1 1 1 1 1 1\n",
      " 1 1 1 1 1 1 1 1 1 1 1 1 1 1 1 1 1 1 1 1 1 1 1 1 1 1]\n"
     ]
    }
   ],
   "source": [
    "from sklearn.datasets import load_iris\n",
    "\n",
    "iris = load_iris()\n",
    "\n",
    "import pandas as pd\n",
    "\n",
    "pd.DataFrame(data=iris.data, columns=iris.feature_names).head()\n",
    "\n",
    "x = iris.data[:100, [2, 3]]\n",
    "print(x)\n",
    "\n",
    "y = iris.target[:100]\n",
    "print(y)"
   ]
  },
  {
   "cell_type": "code",
   "execution_count": 10,
   "metadata": {},
   "outputs": [
    {
     "name": "stdout",
     "output_type": "stream",
     "text": [
      "[[3.5 1. ]\n",
      " [3.8 1.1]\n",
      " [4.4 1.2]\n",
      " [4.5 1.5]\n",
      " [4.5 1.5]\n",
      " [1.5 0.2]\n",
      " [1.7 0.3]\n",
      " [4.7 1.6]\n",
      " [4.7 1.4]\n",
      " [4.3 1.3]\n",
      " [1.4 0.2]\n",
      " [4.2 1.5]\n",
      " [1.3 0.2]\n",
      " [1.3 0.3]\n",
      " [1.4 0.2]\n",
      " [1.5 0.4]\n",
      " [1.4 0.3]\n",
      " [1.3 0.3]\n",
      " [1.3 0.2]\n",
      " [1.7 0.4]\n",
      " [4.6 1.4]\n",
      " [3.9 1.4]\n",
      " [1.4 0.2]\n",
      " [1.5 0.2]\n",
      " [1.4 0.2]\n",
      " [4.7 1.4]\n",
      " [1.6 0.2]\n",
      " [1.2 0.2]\n",
      " [1.7 0.5]\n",
      " [4.9 1.5]\n",
      " [1.5 0.2]\n",
      " [1.5 0.4]\n",
      " [4.5 1.5]\n",
      " [3.3 1. ]\n",
      " [3.5 1. ]\n",
      " [4.5 1.6]\n",
      " [1.5 0.1]\n",
      " [4.5 1.5]\n",
      " [1.2 0.2]\n",
      " [4.  1.3]\n",
      " [1.5 0.3]\n",
      " [1.6 0.2]\n",
      " [1.4 0.2]\n",
      " [4.3 1.3]\n",
      " [3.  1.1]\n",
      " [3.9 1.1]\n",
      " [1.7 0.2]\n",
      " [4.2 1.3]\n",
      " [4.9 1.5]\n",
      " [5.  1.7]\n",
      " [1.6 0.2]\n",
      " [1.4 0.1]\n",
      " [3.7 1. ]\n",
      " [1.6 0.2]\n",
      " [1.5 0.2]\n",
      " [4.4 1.4]\n",
      " [4.6 1.3]\n",
      " [1.4 0.1]\n",
      " [4.1 1.3]\n",
      " [4.8 1.8]\n",
      " [4.4 1.3]\n",
      " [1.3 0.2]\n",
      " [1.5 0.4]\n",
      " [5.1 1.6]\n",
      " [1.5 0.1]\n",
      " [4.2 1.3]\n",
      " [4.1 1. ]\n",
      " [3.6 1.3]\n",
      " [1.4 0.2]\n",
      " [1.9 0.4]]\n",
      "[[1.6 0.4]\n",
      " [4.7 1.5]\n",
      " [1.3 0.2]\n",
      " [4.5 1.3]\n",
      " [4.4 1.4]\n",
      " [3.3 1. ]\n",
      " [1.3 0.4]\n",
      " [4.7 1.2]\n",
      " [4.6 1.5]\n",
      " [4.2 1.2]\n",
      " [4.  1.3]\n",
      " [4.  1.2]\n",
      " [4.5 1.5]\n",
      " [1.1 0.1]\n",
      " [1.5 0.2]\n",
      " [1.6 0.2]\n",
      " [1.  0.2]\n",
      " [1.9 0.2]\n",
      " [1.4 0.2]\n",
      " [1.4 0.2]\n",
      " [1.6 0.6]\n",
      " [4.  1. ]\n",
      " [1.5 0.2]\n",
      " [4.  1.3]\n",
      " [1.4 0.3]\n",
      " [1.5 0.2]\n",
      " [1.4 0.3]\n",
      " [4.1 1.3]\n",
      " [3.9 1.2]\n",
      " [4.8 1.4]]\n"
     ]
    }
   ],
   "source": [
    "from sklearn.model_selection import train_test_split\n",
    "\n",
    "x_train, x_test, y_train, y_test = train_test_split(x, y, test_size=0.3, random_state=0)\n",
    "\n",
    "print(x_train)\n",
    "print(x_test)"
   ]
  },
  {
   "cell_type": "code",
   "execution_count": 11,
   "metadata": {},
   "outputs": [
    {
     "name": "stdout",
     "output_type": "stream",
     "text": [
      "[1 1 1 1 1 0 0 1 1 1 0 1 0 0 0 0 0 0 0 0 1 1 0 0 0 1 0 0 0 1 0 0 1 1 1 1 0\n",
      " 1 0 1 0 0 0 1 1 1 0 1 1 1 0 0 1 0 0 1 1 0 1 1 1 0 0 1 0 1 1 1 0 0]\n",
      "[0 1 0 1 1 1 0 1 1 1 1 1 1 0 0 0 0 0 0 0 0 1 0 1 0 0 0 1 1 1]\n"
     ]
    }
   ],
   "source": [
    "print(y_train)\n",
    "print( y_test)"
   ]
  },
  {
   "cell_type": "code",
   "execution_count": 13,
   "metadata": {},
   "outputs": [
    {
     "name": "stderr",
     "output_type": "stream",
     "text": [
      "/usr/local/lib64/python3.6/site-packages/sklearn/linear_model/logistic.py:432: FutureWarning: Default solver will be changed to 'lbfgs' in 0.22. Specify a solver to silence this warning.\n",
      "  FutureWarning)\n"
     ]
    }
   ],
   "source": [
    "from sklearn.linear_model import LogisticRegression\n",
    "lr = LogisticRegression()\n",
    "lr.fit(x_train, y_train)\n",
    "y_p = lr.predict(x_test)"
   ]
  },
  {
   "cell_type": "code",
   "execution_count": 18,
   "metadata": {},
   "outputs": [
    {
     "name": "stdout",
     "output_type": "stream",
     "text": [
      "誤分類の個数： 0\n",
      "[[0.9763015  1.52717679]]\n",
      "[-3.41222972]\n"
     ]
    }
   ],
   "source": [
    "from sklearn.metrics import confusion_matrix\n",
    "confusion_matrix(y_test, y_p)\n",
    "print('誤分類の個数：',  (y_p !=  y_test).sum())\n",
    "print(lr.coef_)\n",
    "print(lr.intercept_)"
   ]
  },
  {
   "cell_type": "code",
   "execution_count": 23,
   "metadata": {},
   "outputs": [
    {
     "name": "stdout",
     "output_type": "stream",
     "text": [
      "正答率: 1.0\n",
      "[0 0 0 0 0 0 0 0 0 0 0 0 0 0 0 0 0 0 0 0 0 0 0 0 0 0 0 0 0 0 0 0 0 0 0 0 0\n",
      " 0 0 0 0 0 0 0 0 0 0 0 0 0 1 1 1 1 1 1 1 1 1 1 1 1 1 1 1 1 1 1 1 1 1 1 1 1\n",
      " 1 1 1 1 1 1 1 1 1 1 1 1 1 1 1 1 1 1 1 1 1 1 1 1 1 1]\n"
     ]
    },
    {
     "data": {
      "text/plain": [
       "array([0, 1])"
      ]
     },
     "execution_count": 23,
     "metadata": {},
     "output_type": "execute_result"
    }
   ],
   "source": [
    "from sklearn.metrics import accuracy_score\n",
    "print('正答率:', accuracy_score(y_test, y_p))\n",
    "\n",
    "import numpy as np\n",
    "from matplotlib.colors import ListedColormap\n",
    "import matplotlib.pyplot as plt\n",
    "%matplotlib inline\n",
    "\n",
    "markers = ('o', '^')\n",
    "colors = ('red', 'lightgreen')\n",
    "cmap = ListedColormap(colors)\n",
    "\n",
    "print(y)\n",
    "np.unique(y)"
   ]
  },
  {
   "cell_type": "code",
   "execution_count": 24,
   "metadata": {},
   "outputs": [
    {
     "ename": "SyntaxError",
     "evalue": "invalid syntax (<ipython-input-24-7a7d7338de2c>, line 6)",
     "output_type": "error",
     "traceback": [
      "\u001b[0;36m  File \u001b[0;32m\"<ipython-input-24-7a7d7338de2c>\"\u001b[0;36m, line \u001b[0;32m6\u001b[0m\n\u001b[0;31m    s=70,\u001b[0m\n\u001b[0m    ^\u001b[0m\n\u001b[0;31mSyntaxError\u001b[0m\u001b[0;31m:\u001b[0m invalid syntax\n"
     ]
    }
   ],
   "source": [
    "for i, n in enumerate(np.unique(y)):\n",
    "    plt.scatter(x=x_train[y_train == n, 0],\n",
    "                        y=x_train[y_train == n, 1],\n",
    "                        c=map(i),\n",
    "                        marker=markers[i],\n",
    "                        s=70,\n",
    "                        edgecolors='',\n",
    "                        label=n)"
   ]
  },
  {
   "cell_type": "code",
   "execution_count": null,
   "metadata": {},
   "outputs": [],
   "source": []
  }
 ],
 "metadata": {
  "kernelspec": {
   "display_name": "Python 3",
   "language": "python",
   "name": "python3"
  },
  "language_info": {
   "codemirror_mode": {
    "name": "ipython",
    "version": 3
   },
   "file_extension": ".py",
   "mimetype": "text/x-python",
   "name": "python",
   "nbconvert_exporter": "python",
   "pygments_lexer": "ipython3",
   "version": "3.6.8"
  }
 },
 "nbformat": 4,
 "nbformat_minor": 2
}
